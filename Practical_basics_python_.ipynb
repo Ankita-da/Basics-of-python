{
  "nbformat": 4,
  "nbformat_minor": 0,
  "metadata": {
    "colab": {
      "provenance": []
    },
    "kernelspec": {
      "name": "python3",
      "display_name": "Python 3"
    },
    "language_info": {
      "name": "python"
    }
  },
  "cells": [
    {
      "cell_type": "markdown",
      "source": [
        "###1 Write a Python program to print \"Hello, World!\""
      ],
      "metadata": {
        "id": "S5yZDMtXPtQh"
      }
    },
    {
      "cell_type": "code",
      "source": [
        "print(\"Hello, World!\")"
      ],
      "metadata": {
        "colab": {
          "base_uri": "https://localhost:8080/"
        },
        "id": "TexE6LPFP99W",
        "outputId": "20ee2d82-2821-486c-a7a3-75e68f89a45a"
      },
      "execution_count": 11,
      "outputs": [
        {
          "output_type": "stream",
          "name": "stdout",
          "text": [
            "Hello, World!\n"
          ]
        }
      ]
    },
    {
      "cell_type": "markdown",
      "source": [
        "###2 Write a Python program that displays your name and age."
      ],
      "metadata": {
        "id": "t4X0trPmQFT6"
      }
    },
    {
      "cell_type": "code",
      "source": [
        "print(\"My name is Ankita Yadav and I am 21 Years old \")"
      ],
      "metadata": {
        "colab": {
          "base_uri": "https://localhost:8080/"
        },
        "id": "S6Kfw5DUQN4o",
        "outputId": "ae994745-c840-4a47-d001-f64e683895ba"
      },
      "execution_count": 12,
      "outputs": [
        {
          "output_type": "stream",
          "name": "stdout",
          "text": [
            "My name is Ankita Yadav and I am 21 Years old \n"
          ]
        }
      ]
    },
    {
      "cell_type": "markdown",
      "source": [
        "###3 Write code to print all the pre-defined keywords in Python using the keyword library."
      ],
      "metadata": {
        "id": "L6RhsbNQQcL8"
      }
    },
    {
      "cell_type": "code",
      "source": [
        "help(\"keywords\")"
      ],
      "metadata": {
        "colab": {
          "base_uri": "https://localhost:8080/"
        },
        "id": "YkJgaUB4QnqR",
        "outputId": "4936b1ab-1f10-48d7-cd65-6f59c12a0a27"
      },
      "execution_count": 14,
      "outputs": [
        {
          "output_type": "stream",
          "name": "stdout",
          "text": [
            "\n",
            "Here is a list of the Python keywords.  Enter any keyword to get more help.\n",
            "\n",
            "False               class               from                or\n",
            "None                continue            global              pass\n",
            "True                def                 if                  raise\n",
            "and                 del                 import              return\n",
            "as                  elif                in                  try\n",
            "assert              else                is                  while\n",
            "async               except              lambda              with\n",
            "await               finally             nonlocal            yield\n",
            "break               for                 not                 \n",
            "\n"
          ]
        }
      ]
    },
    {
      "cell_type": "markdown",
      "source": [
        "###4 Write a program that checks if a given word is a Python keyword."
      ],
      "metadata": {
        "id": "48F__kmsQ0E9"
      }
    },
    {
      "cell_type": "code",
      "source": [
        "\n",
        "\n",
        "word= input(\"Enter a word:\")\n",
        "if keyword.iskeyword(word):\n",
        "  print(f\"{word} is python keyword.\")\n",
        "else:\n",
        "    print(f\"{word} is no python keyword.\")"
      ],
      "metadata": {
        "colab": {
          "base_uri": "https://localhost:8080/"
        },
        "id": "WNLqZnXrR12C",
        "outputId": "3391501a-20f5-45c6-e26c-d5955ac57199"
      },
      "execution_count": 25,
      "outputs": [
        {
          "output_type": "stream",
          "name": "stdout",
          "text": [
            "Enter a word:for\n",
            "for is python keyword.\n"
          ]
        }
      ]
    },
    {
      "cell_type": "markdown",
      "source": [
        "### 5 Create a list and tuple in Python, and demonstrate how attempting to change an element works differently for each."
      ],
      "metadata": {
        "id": "ZlMOiwF9TEFn"
      }
    },
    {
      "cell_type": "code",
      "source": [
        "from ast import literal_eval\n",
        "list=[\"apple\",\"mango\",\"banana\"]\n",
        "tuple=(\"apple\",\"mango\",\"banana\")\n",
        "\n",
        "#modifying the list\n",
        "list[2]= \"oranges\"\n",
        "print(list)\n",
        "#modifying the tuple\n",
        "tuple[2]= \"oranges\"\n"
      ],
      "metadata": {
        "colab": {
          "base_uri": "https://localhost:8080/",
          "height": 200
        },
        "id": "Fkp_RztITNwV",
        "outputId": "d02fcd42-6165-4347-83ae-f618810dbb6a"
      },
      "execution_count": 62,
      "outputs": [
        {
          "output_type": "stream",
          "name": "stdout",
          "text": [
            "['apple', 'mango', 'oranges']\n"
          ]
        },
        {
          "output_type": "error",
          "ename": "TypeError",
          "evalue": "'tuple' object does not support item assignment",
          "traceback": [
            "\u001b[0;31m---------------------------------------------------------------------------\u001b[0m",
            "\u001b[0;31mTypeError\u001b[0m                                 Traceback (most recent call last)",
            "\u001b[0;32m<ipython-input-62-b54eda5b70a3>\u001b[0m in \u001b[0;36m<cell line: 0>\u001b[0;34m()\u001b[0m\n\u001b[1;32m      7\u001b[0m \u001b[0mprint\u001b[0m\u001b[0;34m(\u001b[0m\u001b[0mlist\u001b[0m\u001b[0;34m)\u001b[0m\u001b[0;34m\u001b[0m\u001b[0;34m\u001b[0m\u001b[0m\n\u001b[1;32m      8\u001b[0m \u001b[0;31m#modifying the tuple\u001b[0m\u001b[0;34m\u001b[0m\u001b[0;34m\u001b[0m\u001b[0m\n\u001b[0;32m----> 9\u001b[0;31m \u001b[0mtuple\u001b[0m\u001b[0;34m[\u001b[0m\u001b[0;36m2\u001b[0m\u001b[0;34m]\u001b[0m\u001b[0;34m=\u001b[0m \u001b[0;34m\"oranges\"\u001b[0m\u001b[0;34m\u001b[0m\u001b[0;34m\u001b[0m\u001b[0m\n\u001b[0m",
            "\u001b[0;31mTypeError\u001b[0m: 'tuple' object does not support item assignment"
          ]
        }
      ]
    },
    {
      "cell_type": "markdown",
      "source": [
        "### 6 Write a function to demonstrate the behavior of mutable and immutable arguments.\n"
      ],
      "metadata": {
        "id": "_DTBIAAhVaFs"
      }
    },
    {
      "cell_type": "code",
      "source": [
        "def modify_elements(mutable, immutable):\n",
        "    mutable.append(10)  # Mutates the list\n",
        "    immutable += 10  # Creates a new integer object\n",
        "    print(\"Inside function:\", mutable, immutable)\n",
        "\n",
        "my_list = [1, 2, 3]\n",
        "my_int = 5\n",
        "\n",
        "modify_elements(my_list, my_int)\n",
        "print(\"Outside function:\", my_list, my_int)\n"
      ],
      "metadata": {
        "colab": {
          "base_uri": "https://localhost:8080/"
        },
        "id": "Zib1LQm8VfK7",
        "outputId": "ba0e0a60-58bc-43e5-96b3-537699e7e488"
      },
      "execution_count": 38,
      "outputs": [
        {
          "output_type": "stream",
          "name": "stdout",
          "text": [
            "Inside function: [1, 2, 3, 10] 15\n",
            "Outside function: [1, 2, 3, 10] 5\n"
          ]
        }
      ]
    },
    {
      "cell_type": "markdown",
      "source": [
        "### 7 Write a program to demonstrate the use of logical operators"
      ],
      "metadata": {
        "id": "FishgB9SV2SU"
      }
    },
    {
      "cell_type": "code",
      "source": [
        "a=10\n",
        "b=20\n",
        "print(a<b and a>5)\n",
        "print(a>b or a>5)\n",
        "print(not(a>b))"
      ],
      "metadata": {
        "colab": {
          "base_uri": "https://localhost:8080/"
        },
        "id": "R0MJNr2bV80q",
        "outputId": "dad21b8f-5dfe-4022-907d-dcb24bf2210a"
      },
      "execution_count": 42,
      "outputs": [
        {
          "output_type": "stream",
          "name": "stdout",
          "text": [
            "True\n",
            "True\n",
            "True\n"
          ]
        }
      ]
    },
    {
      "cell_type": "markdown",
      "source": [
        "### 8 Write a Python program to convert user input from string to integer, float, and boolean types."
      ],
      "metadata": {
        "id": "OMkfu7ISXLWq"
      }
    },
    {
      "cell_type": "code",
      "source": [
        "user_input= input(\"Enter a Value:\")\n",
        "print(\"string:\", user_input)\n",
        "print(\"int:\", int(user_input))\n",
        "print(\"Float:\", float(user_input))\n",
        "print(\"boolean:\", bool(user_input))"
      ],
      "metadata": {
        "colab": {
          "base_uri": "https://localhost:8080/"
        },
        "id": "6WCxnqW2XRPf",
        "outputId": "5ff09e4a-82aa-4085-bd9e-7ef1935ebb70"
      },
      "execution_count": 52,
      "outputs": [
        {
          "output_type": "stream",
          "name": "stdout",
          "text": [
            "Enter a Value:5\n",
            "string: 5\n",
            "int: 5\n",
            "Float: 5.0\n",
            "boolean: True\n"
          ]
        }
      ]
    },
    {
      "cell_type": "markdown",
      "source": [
        "### 9 Write code to demonstrate type casting with list elements."
      ],
      "metadata": {
        "id": "tydI_Fg_ZHSt"
      }
    },
    {
      "cell_type": "code",
      "source": [
        "list=[\"1\",\"2\",\"3\"]\n",
        "int_list=[int(i) for i in list]\n",
        "print(\"Original list:\", list)\n",
        "print(\"Converted list:\", int_list)"
      ],
      "metadata": {
        "colab": {
          "base_uri": "https://localhost:8080/"
        },
        "id": "1dnvv1QRZOw2",
        "outputId": "b358443a-ec11-43f0-dad4-0e07f84cea77"
      },
      "execution_count": 54,
      "outputs": [
        {
          "output_type": "stream",
          "name": "stdout",
          "text": [
            "Original list: ['1', '2', '3']\n",
            "Converted list: [1, 2, 3]\n"
          ]
        }
      ]
    },
    {
      "cell_type": "markdown",
      "source": [
        "### 10 Write a program that checks if a number is positive, negative, or zero."
      ],
      "metadata": {
        "id": "62mqWun8Zj9t"
      }
    },
    {
      "cell_type": "code",
      "source": [
        "num=float(input(\"Enter a number\"))\n",
        "if num >0:\n",
        "  print(\"Positive number\")\n",
        "elif num <0:\n",
        "    print(\"Negative number\")\n",
        "else:\n",
        "          print(\"zero\")"
      ],
      "metadata": {
        "colab": {
          "base_uri": "https://localhost:8080/"
        },
        "id": "p8O4SNh7auOM",
        "outputId": "3c2a2271-4276-4b9e-c05e-4d3dfe90ab24"
      },
      "execution_count": 60,
      "outputs": [
        {
          "output_type": "stream",
          "name": "stdout",
          "text": [
            "Enter a number5\n",
            "Positive number\n"
          ]
        }
      ]
    },
    {
      "cell_type": "markdown",
      "source": [
        "### 11  Write a for loop to print numbers from 1 to 10 ."
      ],
      "metadata": {
        "id": "I-NPo-fXb-qI"
      }
    },
    {
      "cell_type": "code",
      "source": [
        "for i in range (1,11):\n",
        "  print(i)"
      ],
      "metadata": {
        "colab": {
          "base_uri": "https://localhost:8080/"
        },
        "id": "zAyiHuuBcE-Q",
        "outputId": "7b2c1ce7-d635-4e5a-ab7b-49c8f2d95d48"
      },
      "execution_count": 64,
      "outputs": [
        {
          "output_type": "stream",
          "name": "stdout",
          "text": [
            "1\n",
            "2\n",
            "3\n",
            "4\n",
            "5\n",
            "6\n",
            "7\n",
            "8\n",
            "9\n",
            "10\n"
          ]
        }
      ]
    },
    {
      "cell_type": "markdown",
      "source": [
        "### 12 Write a Python program to find the sum of all even numbers between 1 and 50."
      ],
      "metadata": {
        "id": "EfPxzcZBcSNn"
      }
    },
    {
      "cell_type": "code",
      "source": [
        "even_sum = sum(i for i in range (1,51)  if i%2==0)\n",
        "print(\"Sum of even numbers:\", even_sum)"
      ],
      "metadata": {
        "colab": {
          "base_uri": "https://localhost:8080/"
        },
        "id": "1i6aKe3rcZdF",
        "outputId": "50e0db34-0035-4a59-e1c0-41b616234b79"
      },
      "execution_count": 67,
      "outputs": [
        {
          "output_type": "stream",
          "name": "stdout",
          "text": [
            "Sum of even numbers: 650\n"
          ]
        }
      ]
    },
    {
      "cell_type": "markdown",
      "source": [
        "### 13 Write a program to reverse a string using a while loop."
      ],
      "metadata": {
        "id": "6UUomKoIdMbE"
      }
    },
    {
      "cell_type": "code",
      "source": [
        "string=input(\"Enter a string:\")\n",
        "reverse_string=\"\"\n",
        "l=len(string)-1\n",
        "while l>=0:\n",
        "  reverse_string+=string[l]\n",
        "  l-=1\n",
        "  print(\"Reverse string:\",reverse_string)"
      ],
      "metadata": {
        "colab": {
          "base_uri": "https://localhost:8080/"
        },
        "id": "NtIcLp_odRWG",
        "outputId": "036222b0-596c-4880-cf6c-74619879745e"
      },
      "execution_count": 74,
      "outputs": [
        {
          "output_type": "stream",
          "name": "stdout",
          "text": [
            "Enter a string:5\n",
            "Reverse string: 5\n"
          ]
        }
      ]
    },
    {
      "cell_type": "markdown",
      "source": [
        "### 14 Write a Python program to calculate the factorial of a number provided by the user using a while loop."
      ],
      "metadata": {
        "id": "LOCtJEkle_xF"
      }
    },
    {
      "cell_type": "code",
      "source": [
        "num=int(input(\"Enter a number:\"))\n",
        "factorial =1\n",
        "while num >0:\n",
        "  factorial*=num\n",
        "  num-=1\n",
        "  print(\"factorial:\",factorial)"
      ],
      "metadata": {
        "colab": {
          "base_uri": "https://localhost:8080/"
        },
        "id": "c5sIVhqwfUKs",
        "outputId": "7bb679d4-eab1-444c-b9a9-07de3034093a"
      },
      "execution_count": 76,
      "outputs": [
        {
          "output_type": "stream",
          "name": "stdout",
          "text": [
            "Enter a number:1\n",
            "factorial: 1\n"
          ]
        }
      ]
    }
  ]
}