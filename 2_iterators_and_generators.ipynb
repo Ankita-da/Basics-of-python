{
  "cells": [
    {
      "cell_type": "markdown",
      "metadata": {
        "id": "view-in-github",
        "colab_type": "text"
      },
      "source": [
        "<a href=\"https://colab.research.google.com/github/Ankita-da/Basics-of-python/blob/main/2_iterators_and_generators.ipynb\" target=\"_parent\"><img src=\"https://colab.research.google.com/assets/colab-badge.svg\" alt=\"Open In Colab\"/></a>"
      ]
    },
    {
      "cell_type": "code",
      "execution_count": null,
      "id": "69aab886-ae36-41e4-90c6-a5534b4abbf0",
      "metadata": {
        "id": "69aab886-ae36-41e4-90c6-a5534b4abbf0",
        "outputId": "57ebbf08-2362-40cc-e7b1-7ae278f9150b"
      },
      "outputs": [
        {
          "name": "stdout",
          "output_type": "stream",
          "text": [
            "p\n",
            "w\n",
            "s\n",
            "k\n",
            "i\n",
            "l\n",
            "l\n",
            "s\n"
          ]
        }
      ],
      "source": [
        "for i in \"pwskills\":\n",
        "    print(i)"
      ]
    },
    {
      "cell_type": "code",
      "execution_count": null,
      "id": "e33d1481-17f8-4d4b-af71-158bd6c98468",
      "metadata": {
        "id": "e33d1481-17f8-4d4b-af71-158bd6c98468",
        "outputId": "a79e1c6b-9607-499e-abb3-e0baac480086"
      },
      "outputs": [
        {
          "name": "stdout",
          "output_type": "stream",
          "text": [
            "Apple\n",
            "Banana\n",
            "Potato\n",
            "1\n",
            "2\n"
          ]
        }
      ],
      "source": [
        "for i in [\"Apple\", \"Banana\", \"Potato\", 1, 2]:\n",
        "    print(i)"
      ]
    },
    {
      "cell_type": "code",
      "execution_count": null,
      "id": "ca16add4-0bbb-43a4-a9f2-349113f24638",
      "metadata": {
        "id": "ca16add4-0bbb-43a4-a9f2-349113f24638",
        "outputId": "7aad917d-9cdc-4e8b-df42-8e9956ae6485"
      },
      "outputs": [
        {
          "ename": "TypeError",
          "evalue": "'int' object is not iterable",
          "output_type": "error",
          "traceback": [
            "\u001b[0;31m---------------------------------------------------------------------------\u001b[0m",
            "\u001b[0;31mTypeError\u001b[0m                                 Traceback (most recent call last)",
            "Cell \u001b[0;32mIn[3], line 1\u001b[0m\n\u001b[0;32m----> 1\u001b[0m \u001b[38;5;28;01mfor\u001b[39;00m i \u001b[38;5;129;01min\u001b[39;00m \u001b[38;5;241m5\u001b[39m:\n\u001b[1;32m      2\u001b[0m     \u001b[38;5;28mprint\u001b[39m(i)\n",
            "\u001b[0;31mTypeError\u001b[0m: 'int' object is not iterable"
          ]
        }
      ],
      "source": [
        "for i in 5:\n",
        "    print(i)"
      ]
    },
    {
      "cell_type": "code",
      "execution_count": null,
      "id": "fff5511a-ca1d-4251-95eb-0236a4577c8d",
      "metadata": {
        "id": "fff5511a-ca1d-4251-95eb-0236a4577c8d"
      },
      "outputs": [],
      "source": [
        "#iterable>>\n",
        "#An iterable is any python object/sequential structure/data structure that is capable of returning\n",
        "#its members one at a time\n",
        "#permitting it to be iterated over in a for loop\n",
        "#example>> list, tuples"
      ]
    },
    {
      "cell_type": "code",
      "execution_count": null,
      "id": "c4b66dd8-026e-4e13-926b-8c5315635f31",
      "metadata": {
        "id": "c4b66dd8-026e-4e13-926b-8c5315635f31",
        "outputId": "b5307646-0d1b-4eb9-d5fd-240029d98214"
      },
      "outputs": [
        {
          "name": "stdout",
          "output_type": "stream",
          "text": [
            "1\n",
            "2\n",
            "Ajay\n"
          ]
        }
      ],
      "source": [
        "lis = [1, 2, \"Ajay\"] #list is an iterable object\n",
        "for i in lis:\n",
        "    print(i)"
      ]
    },
    {
      "cell_type": "code",
      "execution_count": null,
      "id": "7dccc4cb-0d8a-490a-ba1a-5cdaf9e0fb7c",
      "metadata": {
        "id": "7dccc4cb-0d8a-490a-ba1a-5cdaf9e0fb7c",
        "outputId": "809f2013-e7b4-4c0e-ce3e-f47cec69adbc"
      },
      "outputs": [
        {
          "ename": "TypeError",
          "evalue": "'int' object is not iterable",
          "output_type": "error",
          "traceback": [
            "\u001b[0;31m---------------------------------------------------------------------------\u001b[0m",
            "\u001b[0;31mTypeError\u001b[0m                                 Traceback (most recent call last)",
            "Cell \u001b[0;32mIn[6], line 1\u001b[0m\n\u001b[0;32m----> 1\u001b[0m \u001b[38;5;28;01mfor\u001b[39;00m i \u001b[38;5;129;01min\u001b[39;00m \u001b[38;5;241m6\u001b[39m:\n\u001b[1;32m      2\u001b[0m     \u001b[38;5;28mprint\u001b[39m(i)\n",
            "\u001b[0;31mTypeError\u001b[0m: 'int' object is not iterable"
          ]
        }
      ],
      "source": [
        "for i in 6:\n",
        "    print(i)"
      ]
    },
    {
      "cell_type": "code",
      "execution_count": null,
      "id": "8f8c53cf-9ef2-4b18-9d9f-df2db50c91c4",
      "metadata": {
        "id": "8f8c53cf-9ef2-4b18-9d9f-df2db50c91c4"
      },
      "outputs": [],
      "source": [
        "#iteration>>\n",
        "#iteration is a process of looping through the elements fof an iterable (list, string).\n",
        "#using a loop\n",
        "#The process of returning element one by one iteration"
      ]
    },
    {
      "cell_type": "code",
      "execution_count": null,
      "id": "9044d07a-315c-4e82-82ee-cd96a5878027",
      "metadata": {
        "id": "9044d07a-315c-4e82-82ee-cd96a5878027",
        "outputId": "acb81d85-483a-42a5-87fa-440b1eb163bd"
      },
      "outputs": [
        {
          "name": "stdout",
          "output_type": "stream",
          "text": [
            "p\n",
            "w\n",
            "s\n",
            "k\n",
            "i\n",
            "l\n",
            "l\n",
            "s\n"
          ]
        }
      ],
      "source": [
        "for i in \"pwskills\":\n",
        "    print(i)"
      ]
    },
    {
      "cell_type": "code",
      "execution_count": null,
      "id": "7ac52c2b-9334-4a75-8f84-cedf7cb1e432",
      "metadata": {
        "id": "7ac52c2b-9334-4a75-8f84-cedf7cb1e432"
      },
      "outputs": [],
      "source": [
        "#iterator>> an iterator is an object representing a stream of data>>return the data one by one\n",
        "\n",
        "#Analogy\n",
        "#potato(iterable) >> it can not be cooked in original form\n",
        "#chop/wash the potato >> ready for cooking>>iterator\n",
        "#the process of cooking>>iteration"
      ]
    },
    {
      "cell_type": "code",
      "execution_count": null,
      "id": "6b0b8711-23aa-4f0e-9a88-6529d3f459ec",
      "metadata": {
        "id": "6b0b8711-23aa-4f0e-9a88-6529d3f459ec"
      },
      "outputs": [],
      "source": [
        "s = \"pwskills\" #string is iterable"
      ]
    },
    {
      "cell_type": "code",
      "execution_count": null,
      "id": "7d430e40-5bde-4d89-b8e6-259240aa4e0d",
      "metadata": {
        "id": "7d430e40-5bde-4d89-b8e6-259240aa4e0d",
        "outputId": "adcd46d7-8eb2-4de9-8c66-dd6151d8c313"
      },
      "outputs": [
        {
          "name": "stdout",
          "output_type": "stream",
          "text": [
            "p\n",
            "w\n",
            "s\n",
            "k\n",
            "i\n",
            "l\n",
            "l\n",
            "s\n"
          ]
        }
      ],
      "source": [
        "for i in s: #how python decided that s should be iterated>>comes the concept of iterator\n",
        "    print(i)"
      ]
    },
    {
      "cell_type": "code",
      "execution_count": null,
      "id": "a485e868-ee9f-44b3-a832-227ca834fa9f",
      "metadata": {
        "id": "a485e868-ee9f-44b3-a832-227ca834fa9f",
        "outputId": "aeabcd4b-c253-41a8-b3b5-ab62d23f1d9c"
      },
      "outputs": [
        {
          "data": {
            "text/plain": [
              "<str_iterator at 0x7f8014483430>"
            ]
          },
          "execution_count": 12,
          "metadata": {},
          "output_type": "execute_result"
        }
      ],
      "source": [
        "#python>> can I prepare s for iteration\n",
        "\n",
        "iter(s) #iterator object>> ready to be iterated"
      ]
    },
    {
      "cell_type": "code",
      "execution_count": null,
      "id": "8b4806f0-96a3-4b50-a911-e8cc727440e1",
      "metadata": {
        "id": "8b4806f0-96a3-4b50-a911-e8cc727440e1",
        "outputId": "ecb5bb38-c8e2-4b15-905a-7d6b93aefea5"
      },
      "outputs": [
        {
          "data": {
            "text/plain": [
              "<str_iterator at 0x7f7ffa746740>"
            ]
          },
          "execution_count": 13,
          "metadata": {},
          "output_type": "execute_result"
        }
      ],
      "source": [
        "a = iter(s)\n",
        "a"
      ]
    },
    {
      "cell_type": "code",
      "execution_count": null,
      "id": "c4aff40d-2410-4303-b686-1fb39e4830d0",
      "metadata": {
        "id": "c4aff40d-2410-4303-b686-1fb39e4830d0",
        "outputId": "b4cb37db-2d91-46bb-c220-568b630977df"
      },
      "outputs": [
        {
          "data": {
            "text/plain": [
              "'p'"
            ]
          },
          "execution_count": 14,
          "metadata": {},
          "output_type": "execute_result"
        }
      ],
      "source": [
        "next(a)"
      ]
    },
    {
      "cell_type": "code",
      "execution_count": null,
      "id": "194c0d2c-8aa8-49dc-8702-45f436568782",
      "metadata": {
        "id": "194c0d2c-8aa8-49dc-8702-45f436568782",
        "outputId": "a32c6432-5821-4b80-8b82-2a5a0a743905"
      },
      "outputs": [
        {
          "data": {
            "text/plain": [
              "'w'"
            ]
          },
          "execution_count": 15,
          "metadata": {},
          "output_type": "execute_result"
        }
      ],
      "source": [
        "next(a)"
      ]
    },
    {
      "cell_type": "code",
      "execution_count": null,
      "id": "23329cf0-d2c7-4456-baba-fe8dc708a050",
      "metadata": {
        "id": "23329cf0-d2c7-4456-baba-fe8dc708a050",
        "outputId": "a91dc074-bdee-4478-8fec-49feb5703119"
      },
      "outputs": [
        {
          "data": {
            "text/plain": [
              "'s'"
            ]
          },
          "execution_count": 16,
          "metadata": {},
          "output_type": "execute_result"
        }
      ],
      "source": [
        "next(a)"
      ]
    },
    {
      "cell_type": "code",
      "execution_count": null,
      "id": "187024d7-1784-47f1-8e32-225a9b114387",
      "metadata": {
        "id": "187024d7-1784-47f1-8e32-225a9b114387",
        "outputId": "1cf20746-9e1e-4f78-b5d9-e8718ba1fc2e"
      },
      "outputs": [
        {
          "data": {
            "text/plain": [
              "'k'"
            ]
          },
          "execution_count": 17,
          "metadata": {},
          "output_type": "execute_result"
        }
      ],
      "source": [
        "next(a)"
      ]
    },
    {
      "cell_type": "code",
      "execution_count": null,
      "id": "b156ff31-1fd8-44dd-9b54-a7cc0df509f4",
      "metadata": {
        "id": "b156ff31-1fd8-44dd-9b54-a7cc0df509f4",
        "outputId": "4c5bbc9d-771e-4ce8-ac58-4a064259a57a"
      },
      "outputs": [
        {
          "data": {
            "text/plain": [
              "'i'"
            ]
          },
          "execution_count": 18,
          "metadata": {},
          "output_type": "execute_result"
        }
      ],
      "source": [
        "next(a)"
      ]
    },
    {
      "cell_type": "code",
      "execution_count": null,
      "id": "1f258e7e-6d23-4a9d-b1d4-db79b3ef5d00",
      "metadata": {
        "id": "1f258e7e-6d23-4a9d-b1d4-db79b3ef5d00",
        "outputId": "87faeb91-8fef-40c6-ee36-d830a5e95f5b"
      },
      "outputs": [
        {
          "data": {
            "text/plain": [
              "'l'"
            ]
          },
          "execution_count": 19,
          "metadata": {},
          "output_type": "execute_result"
        }
      ],
      "source": [
        "next(a)"
      ]
    },
    {
      "cell_type": "code",
      "execution_count": null,
      "id": "be4cdcbc-d438-4ce3-a289-d74bcc0bab7a",
      "metadata": {
        "id": "be4cdcbc-d438-4ce3-a289-d74bcc0bab7a",
        "outputId": "f0ad8eea-156c-44b9-aa9c-0adbc164d801"
      },
      "outputs": [
        {
          "data": {
            "text/plain": [
              "'l'"
            ]
          },
          "execution_count": 20,
          "metadata": {},
          "output_type": "execute_result"
        }
      ],
      "source": [
        "next(a)"
      ]
    },
    {
      "cell_type": "code",
      "execution_count": null,
      "id": "7eac9692-da58-4983-8a75-f21967099efd",
      "metadata": {
        "id": "7eac9692-da58-4983-8a75-f21967099efd",
        "outputId": "e7d7fd14-af54-4c09-fd8f-3b5789adbab1"
      },
      "outputs": [
        {
          "data": {
            "text/plain": [
              "'s'"
            ]
          },
          "execution_count": 21,
          "metadata": {},
          "output_type": "execute_result"
        }
      ],
      "source": [
        "next(a)"
      ]
    },
    {
      "cell_type": "code",
      "execution_count": null,
      "id": "6e3a7f0a-4edb-40dd-a487-46794f9b7290",
      "metadata": {
        "id": "6e3a7f0a-4edb-40dd-a487-46794f9b7290",
        "outputId": "ad7ff565-3e4e-48f9-f5bd-e04f3618e9f8"
      },
      "outputs": [
        {
          "ename": "StopIteration",
          "evalue": "",
          "output_type": "error",
          "traceback": [
            "\u001b[0;31m---------------------------------------------------------------------------\u001b[0m",
            "\u001b[0;31mStopIteration\u001b[0m                             Traceback (most recent call last)",
            "Cell \u001b[0;32mIn[22], line 1\u001b[0m\n\u001b[0;32m----> 1\u001b[0m \u001b[38;5;28;43mnext\u001b[39;49m\u001b[43m(\u001b[49m\u001b[43ma\u001b[49m\u001b[43m)\u001b[49m\n",
            "\u001b[0;31mStopIteration\u001b[0m: "
          ]
        }
      ],
      "source": [
        "next(a)"
      ]
    },
    {
      "cell_type": "code",
      "execution_count": null,
      "id": "0f21cf42-c78f-4e95-96bc-661eedefe0ac",
      "metadata": {
        "id": "0f21cf42-c78f-4e95-96bc-661eedefe0ac",
        "outputId": "6f224bc8-c92e-45d9-86a4-a1c7bc37fa7c"
      },
      "outputs": [
        {
          "name": "stdout",
          "output_type": "stream",
          "text": [
            "p\n",
            "w\n",
            "s\n",
            "k\n",
            "i\n",
            "l\n",
            "l\n",
            "s\n"
          ]
        }
      ],
      "source": [
        "for i in \"pwskills\": #first conveting the iterable string to iterator object(using iter) and then access using next\n",
        "    print(i)"
      ]
    },
    {
      "cell_type": "code",
      "execution_count": null,
      "id": "d476701e-1354-4ef0-9e5c-15567129fb4a",
      "metadata": {
        "id": "d476701e-1354-4ef0-9e5c-15567129fb4a",
        "outputId": "0748723b-9663-439b-eea1-e52dbc7a53ff"
      },
      "outputs": [
        {
          "data": {
            "text/plain": [
              "<list_iterator at 0x7f8010187ee0>"
            ]
          },
          "execution_count": 24,
          "metadata": {},
          "output_type": "execute_result"
        }
      ],
      "source": [
        "l = iter([1, 2, 3, 4])\n",
        "l"
      ]
    },
    {
      "cell_type": "code",
      "execution_count": null,
      "id": "af467f48-22d9-4247-83db-4c285a4a6789",
      "metadata": {
        "id": "af467f48-22d9-4247-83db-4c285a4a6789",
        "outputId": "d77f6dec-752f-4647-e069-ad2eb5bdb9a8"
      },
      "outputs": [
        {
          "data": {
            "text/plain": [
              "1"
            ]
          },
          "execution_count": 25,
          "metadata": {},
          "output_type": "execute_result"
        }
      ],
      "source": [
        "next(l)"
      ]
    },
    {
      "cell_type": "code",
      "execution_count": null,
      "id": "89f7d374-6c38-4ccc-ad94-0362a38810c1",
      "metadata": {
        "id": "89f7d374-6c38-4ccc-ad94-0362a38810c1",
        "outputId": "5819810b-c656-47c5-c4e1-d7240b8ead7c"
      },
      "outputs": [
        {
          "data": {
            "text/plain": [
              "2"
            ]
          },
          "execution_count": 26,
          "metadata": {},
          "output_type": "execute_result"
        }
      ],
      "source": [
        "next(l)"
      ]
    },
    {
      "cell_type": "code",
      "execution_count": null,
      "id": "dcb25c66-61b7-4b9b-b8b9-c9183f472df1",
      "metadata": {
        "id": "dcb25c66-61b7-4b9b-b8b9-c9183f472df1",
        "outputId": "871c4797-a5ca-4573-cb7b-1e7e773e2d4e"
      },
      "outputs": [
        {
          "data": {
            "text/plain": [
              "3"
            ]
          },
          "execution_count": 27,
          "metadata": {},
          "output_type": "execute_result"
        }
      ],
      "source": [
        "next(l)"
      ]
    },
    {
      "cell_type": "code",
      "execution_count": null,
      "id": "20426a49-9a2b-4313-b765-efddd8d70d3e",
      "metadata": {
        "id": "20426a49-9a2b-4313-b765-efddd8d70d3e",
        "outputId": "bc3ffda3-b438-41f8-bc1f-e3e4180129da"
      },
      "outputs": [
        {
          "data": {
            "text/plain": [
              "4"
            ]
          },
          "execution_count": 28,
          "metadata": {},
          "output_type": "execute_result"
        }
      ],
      "source": [
        "next(l)"
      ]
    },
    {
      "cell_type": "code",
      "execution_count": null,
      "id": "2394a2fc-9597-4173-9b76-086aa05e30a1",
      "metadata": {
        "id": "2394a2fc-9597-4173-9b76-086aa05e30a1",
        "outputId": "986e31eb-f5f5-46bc-8ab6-5349e59f50bb"
      },
      "outputs": [
        {
          "data": {
            "text/plain": [
              "<tuple_iterator at 0x7f7ffa773610>"
            ]
          },
          "execution_count": 29,
          "metadata": {},
          "output_type": "execute_result"
        }
      ],
      "source": [
        "t = iter((1, 2, 3, 4))\n",
        "t"
      ]
    },
    {
      "cell_type": "code",
      "execution_count": null,
      "id": "8f5c666e-3efa-4c39-aeca-60388fa836b9",
      "metadata": {
        "id": "8f5c666e-3efa-4c39-aeca-60388fa836b9",
        "outputId": "01146033-fd58-4541-b12f-4b0268af602a"
      },
      "outputs": [
        {
          "data": {
            "text/plain": [
              "1"
            ]
          },
          "execution_count": 30,
          "metadata": {},
          "output_type": "execute_result"
        }
      ],
      "source": [
        "next(t)"
      ]
    },
    {
      "cell_type": "code",
      "execution_count": null,
      "id": "28a22e5f-a2c9-455f-9c73-99844c4c79da",
      "metadata": {
        "id": "28a22e5f-a2c9-455f-9c73-99844c4c79da",
        "outputId": "09c2b1f6-987a-49a1-f6b7-4119360376a8"
      },
      "outputs": [
        {
          "data": {
            "text/plain": [
              "2"
            ]
          },
          "execution_count": 31,
          "metadata": {},
          "output_type": "execute_result"
        }
      ],
      "source": [
        "next(t)"
      ]
    },
    {
      "cell_type": "code",
      "execution_count": null,
      "id": "1cd42131-3beb-41b4-8ec1-b163fd73dca5",
      "metadata": {
        "id": "1cd42131-3beb-41b4-8ec1-b163fd73dca5",
        "outputId": "26b686fa-c051-4d33-990a-d7ef660155ac"
      },
      "outputs": [
        {
          "data": {
            "text/plain": [
              "3"
            ]
          },
          "execution_count": 32,
          "metadata": {},
          "output_type": "execute_result"
        }
      ],
      "source": [
        "next(t)"
      ]
    },
    {
      "cell_type": "code",
      "execution_count": null,
      "id": "f38084e3-c4b7-4f4a-81b3-8744bba9892a",
      "metadata": {
        "id": "f38084e3-c4b7-4f4a-81b3-8744bba9892a",
        "outputId": "6d8eb33e-340d-40b4-8e0e-d92f64cace6f"
      },
      "outputs": [
        {
          "data": {
            "text/plain": [
              "4"
            ]
          },
          "execution_count": 33,
          "metadata": {},
          "output_type": "execute_result"
        }
      ],
      "source": [
        "next(t)"
      ]
    },
    {
      "cell_type": "code",
      "execution_count": null,
      "id": "5e127b10-4551-4e95-868f-80b5c021c276",
      "metadata": {
        "id": "5e127b10-4551-4e95-868f-80b5c021c276"
      },
      "outputs": [],
      "source": [
        "t = iter({1, 2, 3, 4})"
      ]
    },
    {
      "cell_type": "code",
      "execution_count": null,
      "id": "4030efcd-9f61-46df-b931-f03f1d19508d",
      "metadata": {
        "id": "4030efcd-9f61-46df-b931-f03f1d19508d",
        "outputId": "987705be-c64d-4fd6-de65-9b2d956ff26e"
      },
      "outputs": [
        {
          "data": {
            "text/plain": [
              "<set_iterator at 0x7f801443bf00>"
            ]
          },
          "execution_count": 35,
          "metadata": {},
          "output_type": "execute_result"
        }
      ],
      "source": [
        "t"
      ]
    },
    {
      "cell_type": "code",
      "execution_count": null,
      "id": "9054dc97-cf6d-40d0-a979-b9bb115fb3f0",
      "metadata": {
        "id": "9054dc97-cf6d-40d0-a979-b9bb115fb3f0",
        "outputId": "527e57ed-c9bc-4651-c225-9b7c5bde2a84"
      },
      "outputs": [
        {
          "data": {
            "text/plain": [
              "1"
            ]
          },
          "execution_count": 36,
          "metadata": {},
          "output_type": "execute_result"
        }
      ],
      "source": [
        "next(t)"
      ]
    },
    {
      "cell_type": "code",
      "execution_count": null,
      "id": "346ebaca-36c3-44a3-9159-9f3ca6224ff3",
      "metadata": {
        "id": "346ebaca-36c3-44a3-9159-9f3ca6224ff3",
        "outputId": "00a02e8e-cfe1-4968-c76f-cd4e25713de0"
      },
      "outputs": [
        {
          "data": {
            "text/plain": [
              "<dict_keyiterator at 0x7f7ffa6b4130>"
            ]
          },
          "execution_count": 37,
          "metadata": {},
          "output_type": "execute_result"
        }
      ],
      "source": [
        "d = iter({\"name\":\"Ajay\"})\n",
        "d"
      ]
    },
    {
      "cell_type": "code",
      "execution_count": null,
      "id": "4125d5bb-9e45-4a3c-81e0-38503cebcd94",
      "metadata": {
        "id": "4125d5bb-9e45-4a3c-81e0-38503cebcd94",
        "outputId": "73a1d00c-b944-4564-d732-6dde5bc119c2"
      },
      "outputs": [
        {
          "data": {
            "text/plain": [
              "'name'"
            ]
          },
          "execution_count": 38,
          "metadata": {},
          "output_type": "execute_result"
        }
      ],
      "source": [
        "next(d)"
      ]
    },
    {
      "cell_type": "code",
      "execution_count": null,
      "id": "c51621c3-c062-4a42-946d-96a745143af2",
      "metadata": {
        "id": "c51621c3-c062-4a42-946d-96a745143af2"
      },
      "outputs": [],
      "source": [
        "#generator function"
      ]
    },
    {
      "cell_type": "code",
      "execution_count": null,
      "id": "fcf82aee-a115-4164-b996-615f0bbfad59",
      "metadata": {
        "id": "fcf82aee-a115-4164-b996-615f0bbfad59",
        "outputId": "390328b2-f7d2-4ca6-e863-c54d7d402d41"
      },
      "outputs": [
        {
          "data": {
            "text/plain": [
              "[25, 100, 225]"
            ]
          },
          "execution_count": 40,
          "metadata": {},
          "output_type": "execute_result"
        }
      ],
      "source": [
        "#regular function>> takes a list and gives square of each of the list\n",
        "def square_number(n):\n",
        "    result = []\n",
        "    for i in n:\n",
        "        result.append(i ** 2)\n",
        "    return result\n",
        "square_number([5, 10, 15])"
      ]
    },
    {
      "cell_type": "code",
      "execution_count": null,
      "id": "8120245d-d3ff-4dca-a062-d366a5596fa7",
      "metadata": {
        "id": "8120245d-d3ff-4dca-a062-d366a5596fa7",
        "outputId": "a2a5897a-027e-4c5f-95d0-6e19cc617e94"
      },
      "outputs": [
        {
          "data": {
            "text/plain": [
              "[0, 1, 4, 9, 16, 25, 36, 49, 64, 81]"
            ]
          },
          "execution_count": 43,
          "metadata": {},
          "output_type": "execute_result"
        }
      ],
      "source": [
        "#regular function calculates the square of the values and return in one go\n",
        "#since its returning in one go>>memory usage will be more and\n",
        "#it will a lot of execution time if there is lot of computation as all the\n",
        "#computations will be done first and then the calculation will be returned in one go\n",
        "def square_number(n):\n",
        "    result = []\n",
        "    for i in range(n):\n",
        "        result.append(i ** 2)\n",
        "    return result\n",
        "square_number(10)"
      ]
    },
    {
      "cell_type": "code",
      "execution_count": null,
      "id": "38626e51-745e-4895-8098-ae9811bb82d3",
      "metadata": {
        "id": "38626e51-745e-4895-8098-ae9811bb82d3"
      },
      "outputs": [],
      "source": [
        "#can we have something to generate result one by one one instead of one go\n",
        "#yield >> general function uses return statment but a generator function use yield statement\n"
      ]
    },
    {
      "cell_type": "code",
      "execution_count": null,
      "id": "945b0bd9-367d-4d5e-bf94-2a278ce139f9",
      "metadata": {
        "id": "945b0bd9-367d-4d5e-bf94-2a278ce139f9"
      },
      "outputs": [],
      "source": [
        "def square_number_generators(n):\n",
        "    for i in range(n):\n",
        "        yield i**2"
      ]
    },
    {
      "cell_type": "code",
      "execution_count": null,
      "id": "91cb7390-6db1-4581-9349-2a08ada374b9",
      "metadata": {
        "id": "91cb7390-6db1-4581-9349-2a08ada374b9",
        "outputId": "b3e135d5-cb22-4295-db4c-6579a29fe094"
      },
      "outputs": [
        {
          "data": {
            "text/plain": [
              "<generator object square_number_generators at 0x7f7ffa641c40>"
            ]
          },
          "execution_count": 46,
          "metadata": {},
          "output_type": "execute_result"
        }
      ],
      "source": [
        "square_number_generators(10) #yield is creating a generator similar to iterator object"
      ]
    },
    {
      "cell_type": "code",
      "execution_count": null,
      "id": "e7ad7abb-b21a-46be-bec0-775cb5d1ae25",
      "metadata": {
        "id": "e7ad7abb-b21a-46be-bec0-775cb5d1ae25",
        "outputId": "b0b1a14c-4722-434c-9976-049da893f313"
      },
      "outputs": [
        {
          "data": {
            "text/plain": [
              "<generator object square_number_generators at 0x7f7ffa641e00>"
            ]
          },
          "execution_count": 47,
          "metadata": {},
          "output_type": "execute_result"
        }
      ],
      "source": [
        "gen = square_number_generators(10)\n",
        "gen"
      ]
    },
    {
      "cell_type": "code",
      "execution_count": null,
      "id": "93284833-e5f8-4090-ab75-971aa20c23a1",
      "metadata": {
        "id": "93284833-e5f8-4090-ab75-971aa20c23a1",
        "outputId": "eacfbc90-6736-4acb-946c-b831279785dd"
      },
      "outputs": [
        {
          "data": {
            "text/plain": [
              "0"
            ]
          },
          "execution_count": 48,
          "metadata": {},
          "output_type": "execute_result"
        }
      ],
      "source": [
        "next(gen)"
      ]
    },
    {
      "cell_type": "code",
      "execution_count": null,
      "id": "c14b619d-f42a-4ccf-b45d-fdfe00dbd389",
      "metadata": {
        "id": "c14b619d-f42a-4ccf-b45d-fdfe00dbd389",
        "outputId": "fbd62a01-e2c5-4f62-8c60-b2cb97098c8a"
      },
      "outputs": [
        {
          "data": {
            "text/plain": [
              "1"
            ]
          },
          "execution_count": 49,
          "metadata": {},
          "output_type": "execute_result"
        }
      ],
      "source": [
        "next(gen)"
      ]
    },
    {
      "cell_type": "code",
      "execution_count": null,
      "id": "8ee3ddd5-ecc3-4f58-9006-57f65d8c5f7c",
      "metadata": {
        "id": "8ee3ddd5-ecc3-4f58-9006-57f65d8c5f7c",
        "outputId": "f3676f73-de9e-4ee7-a4c8-e027a3b8459e"
      },
      "outputs": [
        {
          "data": {
            "text/plain": [
              "4"
            ]
          },
          "execution_count": 51,
          "metadata": {},
          "output_type": "execute_result"
        }
      ],
      "source": [
        "next(gen)"
      ]
    },
    {
      "cell_type": "code",
      "execution_count": null,
      "id": "877ca563-a29c-44a2-83b3-336fa4a0aa79",
      "metadata": {
        "id": "877ca563-a29c-44a2-83b3-336fa4a0aa79",
        "outputId": "f896e88b-55ff-4293-c651-3144a7627399"
      },
      "outputs": [
        {
          "data": {
            "text/plain": [
              "range(1, 10)"
            ]
          },
          "execution_count": 52,
          "metadata": {},
          "output_type": "execute_result"
        }
      ],
      "source": [
        "range(1, 10)"
      ]
    },
    {
      "cell_type": "code",
      "execution_count": null,
      "id": "7c0f0fda-da3e-41b5-b146-b107f479ae3e",
      "metadata": {
        "id": "7c0f0fda-da3e-41b5-b146-b107f479ae3e",
        "outputId": "67095686-ecec-4b78-f206-f2d99c27301f"
      },
      "outputs": [
        {
          "name": "stdout",
          "output_type": "stream",
          "text": [
            "1\n",
            "2\n",
            "3\n",
            "4\n",
            "5\n",
            "6\n",
            "7\n",
            "8\n",
            "9\n"
          ]
        }
      ],
      "source": [
        "for i in range(1, 10):\n",
        "    print(i)"
      ]
    },
    {
      "cell_type": "code",
      "execution_count": null,
      "id": "9e0ed30e-2c64-4639-b6fb-d97643da83f8",
      "metadata": {
        "id": "9e0ed30e-2c64-4639-b6fb-d97643da83f8"
      },
      "outputs": [],
      "source": [
        "#fibonacci series>sum of last two number 0, 1, 1, 2, 3,5, 8...\n",
        "\n",
        "\n",
        "def fib(n):\n",
        "    a = 0\n",
        "    b = 1\n",
        "    for i in range(n): #if n=5, 0, 1, 2, 3, 4\n",
        "        yield a\n",
        "        a, b = b, a+b\n"
      ]
    },
    {
      "cell_type": "code",
      "execution_count": null,
      "id": "a755189d-0796-4213-88c6-4f7027980e23",
      "metadata": {
        "id": "a755189d-0796-4213-88c6-4f7027980e23"
      },
      "outputs": [],
      "source": [
        "f = fib(10000000000000)"
      ]
    },
    {
      "cell_type": "code",
      "execution_count": null,
      "id": "d30590c1-0b9a-41d4-8e4f-40cf333f5256",
      "metadata": {
        "id": "d30590c1-0b9a-41d4-8e4f-40cf333f5256",
        "outputId": "0b0ff162-b518-4879-8885-75bcbf5660fe"
      },
      "outputs": [
        {
          "data": {
            "text/plain": [
              "<generator object fib at 0x7f7ffa642340>"
            ]
          },
          "execution_count": 57,
          "metadata": {},
          "output_type": "execute_result"
        }
      ],
      "source": [
        "f"
      ]
    },
    {
      "cell_type": "code",
      "execution_count": null,
      "id": "ceaac8cb-d70a-4d7b-ac60-091af6948937",
      "metadata": {
        "id": "ceaac8cb-d70a-4d7b-ac60-091af6948937",
        "outputId": "ddac004e-10b6-4374-9d4f-add89f53be93"
      },
      "outputs": [
        {
          "data": {
            "text/plain": [
              "0"
            ]
          },
          "execution_count": 58,
          "metadata": {},
          "output_type": "execute_result"
        }
      ],
      "source": [
        "next(f)"
      ]
    },
    {
      "cell_type": "code",
      "execution_count": null,
      "id": "cf697772-22e1-4685-8b39-749c2c84a0b2",
      "metadata": {
        "id": "cf697772-22e1-4685-8b39-749c2c84a0b2"
      },
      "outputs": [],
      "source": []
    }
  ],
  "metadata": {
    "kernelspec": {
      "display_name": "Python 3 (ipykernel)",
      "language": "python",
      "name": "python3"
    },
    "language_info": {
      "codemirror_mode": {
        "name": "ipython",
        "version": 3
      },
      "file_extension": ".py",
      "mimetype": "text/x-python",
      "name": "python",
      "nbconvert_exporter": "python",
      "pygments_lexer": "ipython3",
      "version": "3.10.8"
    },
    "colab": {
      "provenance": [],
      "include_colab_link": true
    }
  },
  "nbformat": 4,
  "nbformat_minor": 5
}