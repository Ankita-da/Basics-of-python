{
  "cells": [
    {
      "cell_type": "markdown",
      "metadata": {
        "id": "view-in-github",
        "colab_type": "text"
      },
      "source": [
        "<a href=\"https://colab.research.google.com/github/Ankita-da/Basics-of-python/blob/main/3_lambda%2C_map%2C_reduce_and_filter.ipynb\" target=\"_parent\"><img src=\"https://colab.research.google.com/assets/colab-badge.svg\" alt=\"Open In Colab\"/></a>"
      ]
    },
    {
      "cell_type": "code",
      "execution_count": null,
      "id": "0f78f380-670f-4e6f-a3d4-f5457c2cc198",
      "metadata": {
        "id": "0f78f380-670f-4e6f-a3d4-f5457c2cc198"
      },
      "outputs": [],
      "source": [
        "#lambda function>> anonymous function\n",
        "#syntax\n",
        "# lambda arguments : expression >> no need of return statement and def keyword"
      ]
    },
    {
      "cell_type": "code",
      "execution_count": null,
      "id": "00968b1e-eb53-4ee6-8e7e-dbb7793b4eef",
      "metadata": {
        "id": "00968b1e-eb53-4ee6-8e7e-dbb7793b4eef",
        "outputId": "d7c3bac8-6a53-4603-96ba-9bad4bba7ae0"
      },
      "outputs": [
        {
          "data": {
            "text/plain": [
              "4"
            ]
          },
          "execution_count": 2,
          "metadata": {},
          "output_type": "execute_result"
        }
      ],
      "source": [
        "def square(x):\n",
        "    return x**2\n",
        "square(2)"
      ]
    },
    {
      "cell_type": "code",
      "execution_count": null,
      "id": "deb4337c-9dcb-4fa5-a979-9814e97b4874",
      "metadata": {
        "id": "deb4337c-9dcb-4fa5-a979-9814e97b4874"
      },
      "outputs": [],
      "source": [
        "sq_lambda = lambda x: x**2"
      ]
    },
    {
      "cell_type": "code",
      "execution_count": null,
      "id": "5fdd1c64-25ab-4fca-a7d6-29a723aedb5a",
      "metadata": {
        "id": "5fdd1c64-25ab-4fca-a7d6-29a723aedb5a",
        "outputId": "54eb7fc9-783e-41c6-a53d-d5bc2c7c6dcf"
      },
      "outputs": [
        {
          "data": {
            "text/plain": [
              "4"
            ]
          },
          "execution_count": 4,
          "metadata": {},
          "output_type": "execute_result"
        }
      ],
      "source": [
        "sq_lambda(2)"
      ]
    },
    {
      "cell_type": "code",
      "execution_count": null,
      "id": "d18ac601-d720-475d-aa1b-f504c921b86f",
      "metadata": {
        "id": "d18ac601-d720-475d-aa1b-f504c921b86f"
      },
      "outputs": [],
      "source": [
        "add = lambda a, b: a+b"
      ]
    },
    {
      "cell_type": "code",
      "execution_count": null,
      "id": "6a418bc6-784a-4dc9-af88-b4206f7958a3",
      "metadata": {
        "id": "6a418bc6-784a-4dc9-af88-b4206f7958a3",
        "outputId": "ba8cb1c4-754b-42df-f10d-9b50f0dde69c"
      },
      "outputs": [
        {
          "data": {
            "text/plain": [
              "7"
            ]
          },
          "execution_count": 6,
          "metadata": {},
          "output_type": "execute_result"
        }
      ],
      "source": [
        "add(2, 5)"
      ]
    },
    {
      "cell_type": "code",
      "execution_count": null,
      "id": "3604e5e8-104a-4afd-82c2-043f38cdb347",
      "metadata": {
        "id": "3604e5e8-104a-4afd-82c2-043f38cdb347",
        "outputId": "6f9d7bf9-66b2-44a5-8b97-b7a3adc5b134"
      },
      "outputs": [
        {
          "data": {
            "text/plain": [
              "True"
            ]
          },
          "execution_count": 8,
          "metadata": {},
          "output_type": "execute_result"
        }
      ],
      "source": [
        "is_even = lambda x: x%2 == 0\n",
        "is_even(4)"
      ]
    },
    {
      "cell_type": "code",
      "execution_count": null,
      "id": "f9e12039-b129-47f2-8803-fdf65bdf0dda",
      "metadata": {
        "id": "f9e12039-b129-47f2-8803-fdf65bdf0dda",
        "outputId": "e4e0792a-2f9d-4840-f344-933a60d1da7e"
      },
      "outputs": [
        {
          "data": {
            "text/plain": [
              "['Python', 'Data Science', 'Ajay']"
            ]
          },
          "execution_count": 12,
          "metadata": {},
          "output_type": "execute_result"
        }
      ],
      "source": [
        "x = [\"Python\", \"Data Science\", \"Ajay\"]\n",
        "x"
      ]
    },
    {
      "cell_type": "code",
      "execution_count": null,
      "id": "57810e3f-3738-462a-854c-042f23eb18fe",
      "metadata": {
        "id": "57810e3f-3738-462a-854c-042f23eb18fe",
        "outputId": "1eaa2766-0bc7-4e80-86de-6dc2918dfabd"
      },
      "outputs": [
        {
          "data": {
            "text/plain": [
              "['Ajay', 'Data Science', 'Python']"
            ]
          },
          "execution_count": 10,
          "metadata": {},
          "output_type": "execute_result"
        }
      ],
      "source": [
        "sorted(x) #by default sorting based on alphabetical order"
      ]
    },
    {
      "cell_type": "code",
      "execution_count": null,
      "id": "6a5fa032-8f57-4297-b335-d42b0f80a237",
      "metadata": {
        "id": "6a5fa032-8f57-4297-b335-d42b0f80a237",
        "outputId": "e3c28f65-01f1-43c8-d58c-6cddc612da17"
      },
      "outputs": [
        {
          "data": {
            "text/plain": [
              "4"
            ]
          },
          "execution_count": 11,
          "metadata": {},
          "output_type": "execute_result"
        }
      ],
      "source": [
        "#sort the list based on length of element of list\n",
        "le = lambda x: len(x)\n",
        "le(\"Ajay\")"
      ]
    },
    {
      "cell_type": "code",
      "execution_count": null,
      "id": "59d6443a-44ed-4898-a8a2-ad0cae26eccd",
      "metadata": {
        "id": "59d6443a-44ed-4898-a8a2-ad0cae26eccd",
        "outputId": "faf5eba6-d142-44ce-a7fa-a784e0239be7"
      },
      "outputs": [
        {
          "data": {
            "text/plain": [
              "['Ajay', 'Python', 'Data Science']"
            ]
          },
          "execution_count": 13,
          "metadata": {},
          "output_type": "execute_result"
        }
      ],
      "source": [
        "sorted(x, key = lambda x: len(x))"
      ]
    },
    {
      "cell_type": "code",
      "execution_count": null,
      "id": "bd66a2b9-1acb-4c1b-a5b4-b1aed71efec8",
      "metadata": {
        "id": "bd66a2b9-1acb-4c1b-a5b4-b1aed71efec8",
        "outputId": "1b442c7c-d4e8-4aa6-cee3-e78964453ce8"
      },
      "outputs": [
        {
          "data": {
            "text/plain": [
              "[0, 1, 1, 2, 3, 5, 8, 13, 21, 34]"
            ]
          },
          "execution_count": 15,
          "metadata": {},
          "output_type": "execute_result"
        }
      ],
      "source": [
        "fib = lambda n: n if n<=1 else fib(n-1) + fib(n-2)\n",
        "[fib(i) for i in range(10)]"
      ]
    },
    {
      "cell_type": "code",
      "execution_count": null,
      "id": "1b76b2e6-8d39-4b02-a251-cc4c516fb3cc",
      "metadata": {
        "id": "1b76b2e6-8d39-4b02-a251-cc4c516fb3cc"
      },
      "outputs": [],
      "source": [
        "#factorial of 5 >> 5*4*3*2*1 and 0! is 1"
      ]
    },
    {
      "cell_type": "code",
      "execution_count": null,
      "id": "20510b42-1d6d-46ce-b9b6-4e097e5de4a3",
      "metadata": {
        "id": "20510b42-1d6d-46ce-b9b6-4e097e5de4a3"
      },
      "outputs": [],
      "source": [
        "def fact_num(n):\n",
        "    if n==0:\n",
        "        return 1\n",
        "    else:\n",
        "        return n*fact_num(n-1)"
      ]
    },
    {
      "cell_type": "code",
      "execution_count": null,
      "id": "e3ec2d74-387d-4d5d-bb98-02a69aa03547",
      "metadata": {
        "id": "e3ec2d74-387d-4d5d-bb98-02a69aa03547",
        "outputId": "30c871da-14b9-47ea-8c36-14adce749a6b"
      },
      "outputs": [
        {
          "data": {
            "text/plain": [
              "120"
            ]
          },
          "execution_count": 18,
          "metadata": {},
          "output_type": "execute_result"
        }
      ],
      "source": [
        "fact_num(5)"
      ]
    },
    {
      "cell_type": "code",
      "execution_count": null,
      "id": "04a244ce-5047-4094-984b-06f5dec1c54a",
      "metadata": {
        "id": "04a244ce-5047-4094-984b-06f5dec1c54a",
        "outputId": "09b1a61e-daaf-440b-e320-9369d24d5bf3"
      },
      "outputs": [
        {
          "data": {
            "text/plain": [
              "120"
            ]
          },
          "execution_count": 20,
          "metadata": {},
          "output_type": "execute_result"
        }
      ],
      "source": [
        "fact_num = lambda n: 1 if n==0 else n*fact_num(n-1)\n",
        "fact_num(5)"
      ]
    },
    {
      "cell_type": "code",
      "execution_count": null,
      "id": "c8a302c1-9e8d-4812-a29b-1ceba6c247fd",
      "metadata": {
        "id": "c8a302c1-9e8d-4812-a29b-1ceba6c247fd"
      },
      "outputs": [],
      "source": [
        "#map >> executes a specified function for each of iterm of an iterable\n",
        "#syntax >> map(func,*iterables)"
      ]
    },
    {
      "cell_type": "code",
      "execution_count": null,
      "id": "03604164-ffcb-4341-873b-7be905dd2291",
      "metadata": {
        "id": "03604164-ffcb-4341-873b-7be905dd2291",
        "outputId": "a806a20b-a6b4-4181-abad-e58f6b293e3a"
      },
      "outputs": [
        {
          "name": "stdout",
          "output_type": "stream",
          "text": [
            "Help on class map in module builtins:\n",
            "\n",
            "class map(object)\n",
            " |  map(func, *iterables) --> map object\n",
            " |  \n",
            " |  Make an iterator that computes the function using arguments from\n",
            " |  each of the iterables.  Stops when the shortest iterable is exhausted.\n",
            " |  \n",
            " |  Methods defined here:\n",
            " |  \n",
            " |  __getattribute__(self, name, /)\n",
            " |      Return getattr(self, name).\n",
            " |  \n",
            " |  __iter__(self, /)\n",
            " |      Implement iter(self).\n",
            " |  \n",
            " |  __next__(self, /)\n",
            " |      Implement next(self).\n",
            " |  \n",
            " |  __reduce__(...)\n",
            " |      Return state information for pickling.\n",
            " |  \n",
            " |  ----------------------------------------------------------------------\n",
            " |  Static methods defined here:\n",
            " |  \n",
            " |  __new__(*args, **kwargs) from builtins.type\n",
            " |      Create and return a new object.  See help(type) for accurate signature.\n",
            "\n"
          ]
        }
      ],
      "source": [
        "help(map)"
      ]
    },
    {
      "cell_type": "code",
      "execution_count": null,
      "id": "a47de75a-c0b8-4fb0-b839-5613454fe21d",
      "metadata": {
        "id": "a47de75a-c0b8-4fb0-b839-5613454fe21d"
      },
      "outputs": [],
      "source": [
        "l = [1, 2, 3, 4, 5]\n",
        "def square(l):\n",
        "    sq = []\n",
        "    for i in l:\n",
        "        sq.append(i**2)\n",
        "    return sq"
      ]
    },
    {
      "cell_type": "code",
      "execution_count": null,
      "id": "966988af-2d0d-408d-a508-72f95f6bef63",
      "metadata": {
        "id": "966988af-2d0d-408d-a508-72f95f6bef63",
        "outputId": "bd8b06a6-20ae-4590-fb73-aaa15c24d173"
      },
      "outputs": [
        {
          "data": {
            "text/plain": [
              "[1, 4, 9, 16, 25]"
            ]
          },
          "execution_count": 24,
          "metadata": {},
          "output_type": "execute_result"
        }
      ],
      "source": [
        "square(l)"
      ]
    },
    {
      "cell_type": "code",
      "execution_count": null,
      "id": "bc6c7ae4-cd2e-4cf8-ad0e-2d9ba5188b30",
      "metadata": {
        "id": "bc6c7ae4-cd2e-4cf8-ad0e-2d9ba5188b30"
      },
      "outputs": [],
      "source": [
        "def sq(x):\n",
        "    return x**2"
      ]
    },
    {
      "cell_type": "code",
      "execution_count": null,
      "id": "4d4bbd29-b733-47ee-a8c5-c37641a715b7",
      "metadata": {
        "id": "4d4bbd29-b733-47ee-a8c5-c37641a715b7",
        "outputId": "0fd72175-c2ef-475d-cf67-e832a06d5e54"
      },
      "outputs": [
        {
          "data": {
            "text/plain": [
              "[1, 2, 3, 4, 5]"
            ]
          },
          "execution_count": 26,
          "metadata": {},
          "output_type": "execute_result"
        }
      ],
      "source": [
        "l"
      ]
    },
    {
      "cell_type": "code",
      "execution_count": null,
      "id": "49e96706-65f0-46ba-a19a-62fe34953d76",
      "metadata": {
        "id": "49e96706-65f0-46ba-a19a-62fe34953d76",
        "outputId": "d447f10b-1df5-4840-ff1a-2d1e57e56a23"
      },
      "outputs": [
        {
          "data": {
            "text/plain": [
              "[1, 4, 9, 16, 25]"
            ]
          },
          "execution_count": 28,
          "metadata": {},
          "output_type": "execute_result"
        }
      ],
      "source": [
        "#map(func, iterable)\n",
        "list(map(sq, l))"
      ]
    },
    {
      "cell_type": "code",
      "execution_count": null,
      "id": "77cb292c-99ad-4369-a6c4-5c3b8bf84ab2",
      "metadata": {
        "id": "77cb292c-99ad-4369-a6c4-5c3b8bf84ab2",
        "outputId": "81c3fd4f-4072-4ee8-cf88-6dc0f7cdba2b"
      },
      "outputs": [
        {
          "data": {
            "text/plain": [
              "[11, 12, 13, 14, 15]"
            ]
          },
          "execution_count": 29,
          "metadata": {},
          "output_type": "execute_result"
        }
      ],
      "source": [
        "def add(x):\n",
        "    return x+10\n",
        "\n",
        "list(map(add, l))"
      ]
    },
    {
      "cell_type": "code",
      "execution_count": null,
      "id": "6b24e390-311b-4c5a-94ac-81b55d685cca",
      "metadata": {
        "id": "6b24e390-311b-4c5a-94ac-81b55d685cca",
        "outputId": "0c15129a-b4f3-443b-a3ea-baf1e4229bb2"
      },
      "outputs": [
        {
          "data": {
            "text/plain": [
              "[1, 4, 9, 16, 25]"
            ]
          },
          "execution_count": 30,
          "metadata": {},
          "output_type": "execute_result"
        }
      ],
      "source": [
        "#using lambda with map\n",
        "list(map(lambda x: x**2, l))"
      ]
    },
    {
      "cell_type": "code",
      "execution_count": null,
      "id": "48ca3a32-f176-4e2b-a36d-df1df24acdbe",
      "metadata": {
        "id": "48ca3a32-f176-4e2b-a36d-df1df24acdbe",
        "outputId": "1c08221a-c6ab-4c3c-b6d1-a88318779c57"
      },
      "outputs": [
        {
          "data": {
            "text/plain": [
              "[11, 12, 13, 14, 15]"
            ]
          },
          "execution_count": 31,
          "metadata": {},
          "output_type": "execute_result"
        }
      ],
      "source": [
        "list(map(lambda x: x+10, l))"
      ]
    },
    {
      "cell_type": "code",
      "execution_count": null,
      "id": "15d1957c-22a3-41fe-8744-83d999149957",
      "metadata": {
        "id": "15d1957c-22a3-41fe-8744-83d999149957",
        "outputId": "9610e791-7312-4d66-a544-cc108427bc89"
      },
      "outputs": [
        {
          "data": {
            "text/plain": [
              "[1, 2, 3]"
            ]
          },
          "execution_count": 32,
          "metadata": {},
          "output_type": "execute_result"
        }
      ],
      "source": [
        "l = [\"1\", \"2\", \"3\"]\n",
        "list(map(lambda x: int(x), l))"
      ]
    },
    {
      "cell_type": "code",
      "execution_count": null,
      "id": "fa02bd4f-581e-43c6-a2e0-c55678d4a8af",
      "metadata": {
        "id": "fa02bd4f-581e-43c6-a2e0-c55678d4a8af",
        "outputId": "21725f81-f92c-4ef9-b0c3-af46269b75e1"
      },
      "outputs": [
        {
          "data": {
            "text/plain": [
              "[101, 202, 303, 404]"
            ]
          },
          "execution_count": 33,
          "metadata": {},
          "output_type": "execute_result"
        }
      ],
      "source": [
        "l1 = [100, 200,300, 400]\n",
        "l2 = [1, 2, 3, 4]\n",
        "list(map(lambda x, y : x+y, l1, l2))"
      ]
    },
    {
      "cell_type": "code",
      "execution_count": null,
      "id": "844ed764-2083-407b-8eb7-5150cb312dd0",
      "metadata": {
        "id": "844ed764-2083-407b-8eb7-5150cb312dd0",
        "outputId": "fe527798-2e1b-4389-fc79-d3565bb13059"
      },
      "outputs": [
        {
          "data": {
            "text/plain": [
              "['P', 'W', 'S', 'K', 'I', 'L', 'L', 'S']"
            ]
          },
          "execution_count": 34,
          "metadata": {},
          "output_type": "execute_result"
        }
      ],
      "source": [
        "s = \"pwskills\"\n",
        "list(map(lambda x: x.upper(),s))"
      ]
    },
    {
      "cell_type": "code",
      "execution_count": null,
      "id": "3cd051cb-5752-48b2-8581-cc70e7e9018f",
      "metadata": {
        "id": "3cd051cb-5752-48b2-8581-cc70e7e9018f",
        "outputId": "843307be-4581-4c00-d6ed-94e5face72e7"
      },
      "outputs": [
        {
          "data": {
            "text/plain": [
              "['Python', 'Ajay']"
            ]
          },
          "execution_count": 35,
          "metadata": {},
          "output_type": "execute_result"
        }
      ],
      "source": [
        "words = [\"python\", \"ajay\"]\n",
        "list(map(str.capitalize, words))"
      ]
    },
    {
      "cell_type": "code",
      "execution_count": null,
      "id": "c1268fbb-40b5-459f-9e38-42e86ce09a14",
      "metadata": {
        "id": "c1268fbb-40b5-459f-9e38-42e86ce09a14",
        "outputId": "5c6e321a-0caa-4f2d-b179-61cdd82a71e9"
      },
      "outputs": [
        {
          "data": {
            "text/plain": [
              "[4, 3, 2, 2]"
            ]
          },
          "execution_count": 36,
          "metadata": {},
          "output_type": "execute_result"
        }
      ],
      "source": [
        "grades = [\"A\", \"B\", \"C\", \"D\"]\n",
        "list(map(lambda grade: 4 if grade == \"A\" else (3 if grade == \"B\" else 2), grades))"
      ]
    },
    {
      "cell_type": "code",
      "execution_count": null,
      "id": "6edb7bf6-9857-4047-a1a7-5d5989c451d2",
      "metadata": {
        "id": "6edb7bf6-9857-4047-a1a7-5d5989c451d2"
      },
      "outputs": [],
      "source": [
        "#reduce >> folding/reduction\n",
        "#syntax>> #reduce(func, iterable)\n",
        "#reduce will always take two arguement function\n",
        "from functools import reduce"
      ]
    },
    {
      "cell_type": "code",
      "execution_count": null,
      "id": "57d263e4-23a7-438d-8ee4-29d3ee3e3c92",
      "metadata": {
        "id": "57d263e4-23a7-438d-8ee4-29d3ee3e3c92",
        "outputId": "d90fa325-29e2-4080-f4f8-f4f336da489a"
      },
      "outputs": [
        {
          "data": {
            "text/plain": [
              "25"
            ]
          },
          "execution_count": 38,
          "metadata": {},
          "output_type": "execute_result"
        }
      ],
      "source": [
        "l = [2, 1, 3, 4, 4, 5, 6]\n",
        "reduce(lambda x, y:x+y, l)"
      ]
    },
    {
      "cell_type": "code",
      "execution_count": null,
      "id": "2ed1de8e-170a-4b9b-b840-a0de8f5a450b",
      "metadata": {
        "id": "2ed1de8e-170a-4b9b-b840-a0de8f5a450b",
        "outputId": "b0e22bcb-5121-43cc-c07d-b972fdd4fb28"
      },
      "outputs": [
        {
          "ename": "TypeError",
          "evalue": "<lambda>() missing 1 required positional argument: 'z'",
          "output_type": "error",
          "traceback": [
            "\u001b[0;31m---------------------------------------------------------------------------\u001b[0m",
            "\u001b[0;31mTypeError\u001b[0m                                 Traceback (most recent call last)",
            "Cell \u001b[0;32mIn[40], line 2\u001b[0m\n\u001b[1;32m      1\u001b[0m l \u001b[38;5;241m=\u001b[39m [\u001b[38;5;241m2\u001b[39m, \u001b[38;5;241m1\u001b[39m, \u001b[38;5;241m3\u001b[39m, \u001b[38;5;241m4\u001b[39m, \u001b[38;5;241m5\u001b[39m, \u001b[38;5;241m6\u001b[39m]\n\u001b[0;32m----> 2\u001b[0m \u001b[43mreduce\u001b[49m\u001b[43m(\u001b[49m\u001b[38;5;28;43;01mlambda\u001b[39;49;00m\u001b[43m \u001b[49m\u001b[43mx\u001b[49m\u001b[43m,\u001b[49m\u001b[43m \u001b[49m\u001b[43my\u001b[49m\u001b[43m,\u001b[49m\u001b[43mz\u001b[49m\u001b[43m:\u001b[49m\u001b[43mx\u001b[49m\u001b[38;5;241;43m+\u001b[39;49m\u001b[43my\u001b[49m\u001b[38;5;241;43m+\u001b[39;49m\u001b[43mz\u001b[49m\u001b[43m,\u001b[49m\u001b[43m \u001b[49m\u001b[43ml\u001b[49m\u001b[43m)\u001b[49m\n",
            "\u001b[0;31mTypeError\u001b[0m: <lambda>() missing 1 required positional argument: 'z'"
          ]
        }
      ],
      "source": [
        "l = [2, 1, 3, 4, 5, 6]\n",
        "reduce(lambda x, y,z:x+y+z, l)"
      ]
    },
    {
      "cell_type": "code",
      "execution_count": null,
      "id": "1a5ddd38-e850-4f3f-9b28-0435e4af7b2e",
      "metadata": {
        "id": "1a5ddd38-e850-4f3f-9b28-0435e4af7b2e",
        "outputId": "d6d4c613-612b-4025-e982-c036d1621844"
      },
      "outputs": [
        {
          "ename": "TypeError",
          "evalue": "reduce() of empty iterable with no initial value",
          "output_type": "error",
          "traceback": [
            "\u001b[0;31m---------------------------------------------------------------------------\u001b[0m",
            "\u001b[0;31mTypeError\u001b[0m                                 Traceback (most recent call last)",
            "Cell \u001b[0;32mIn[41], line 2\u001b[0m\n\u001b[1;32m      1\u001b[0m l \u001b[38;5;241m=\u001b[39m [\u001b[38;5;241m2\u001b[39m, \u001b[38;5;241m1\u001b[39m, \u001b[38;5;241m3\u001b[39m, \u001b[38;5;241m4\u001b[39m, \u001b[38;5;241m4\u001b[39m, \u001b[38;5;241m5\u001b[39m, \u001b[38;5;241m6\u001b[39m]\n\u001b[0;32m----> 2\u001b[0m \u001b[43mreduce\u001b[49m\u001b[43m(\u001b[49m\u001b[38;5;28;43;01mlambda\u001b[39;49;00m\u001b[43m \u001b[49m\u001b[43mx\u001b[49m\u001b[43m,\u001b[49m\u001b[43m \u001b[49m\u001b[43my\u001b[49m\u001b[43m:\u001b[49m\u001b[43mx\u001b[49m\u001b[38;5;241;43m+\u001b[39;49m\u001b[43my\u001b[49m\u001b[43m,\u001b[49m\u001b[43m \u001b[49m\u001b[43m[\u001b[49m\u001b[43m]\u001b[49m\u001b[43m)\u001b[49m \n",
            "\u001b[0;31mTypeError\u001b[0m: reduce() of empty iterable with no initial value"
          ]
        }
      ],
      "source": [
        "l = [2, 1, 3, 4, 4, 5, 6]\n",
        "reduce(lambda x, y:x+y, [])"
      ]
    },
    {
      "cell_type": "code",
      "execution_count": null,
      "id": "55dc5b4e-91b4-4e58-ae58-88637709411c",
      "metadata": {
        "id": "55dc5b4e-91b4-4e58-ae58-88637709411c",
        "outputId": "7e1f7abe-d42b-40a3-fc37-a0a7b0d4dd17"
      },
      "outputs": [
        {
          "data": {
            "text/plain": [
              "1"
            ]
          },
          "execution_count": 42,
          "metadata": {},
          "output_type": "execute_result"
        }
      ],
      "source": [
        "l = [2, 1, 3, 4, 4, 5, 6]\n",
        "reduce(lambda x, y:x+y, [1])"
      ]
    },
    {
      "cell_type": "code",
      "execution_count": null,
      "id": "1da93664-a68d-4b2a-9ea9-7802d63c8852",
      "metadata": {
        "id": "1da93664-a68d-4b2a-9ea9-7802d63c8852",
        "outputId": "0e4388ef-22b1-4300-c527-f7a32382d18e"
      },
      "outputs": [
        {
          "data": {
            "text/plain": [
              "2880"
            ]
          },
          "execution_count": 43,
          "metadata": {},
          "output_type": "execute_result"
        }
      ],
      "source": [
        "reduce(lambda x, y:x*y, l)"
      ]
    },
    {
      "cell_type": "code",
      "execution_count": null,
      "id": "2fc6b950-e194-40f2-a345-e49df023c854",
      "metadata": {
        "id": "2fc6b950-e194-40f2-a345-e49df023c854",
        "outputId": "535d29b2-67df-44a3-b2c1-7e052c22a721"
      },
      "outputs": [
        {
          "data": {
            "text/plain": [
              "'Data Science courses'"
            ]
          },
          "execution_count": 44,
          "metadata": {},
          "output_type": "execute_result"
        }
      ],
      "source": [
        "words = [\"Data\", \"Science\", \"courses\"]\n",
        "reduce(lambda x, y: x+ \" \"+y, words)"
      ]
    },
    {
      "cell_type": "code",
      "execution_count": null,
      "id": "32b38b5d-1912-4a80-9463-8f5ea568b00a",
      "metadata": {
        "id": "32b38b5d-1912-4a80-9463-8f5ea568b00a",
        "outputId": "04e012ba-0ad2-4157-93fe-fe887e7f766f"
      },
      "outputs": [
        {
          "data": {
            "text/plain": [
              "10000"
            ]
          },
          "execution_count": 45,
          "metadata": {},
          "output_type": "execute_result"
        }
      ],
      "source": [
        "#the highest values at each stage you are comparing x and y\n",
        "numbers = [1, 2, 5, 3, 100, 1000, 6, 10000]\n",
        "reduce(lambda x, y: x if x>y else y, numbers)"
      ]
    },
    {
      "cell_type": "code",
      "execution_count": null,
      "id": "2ad8996c-7dac-4d3a-9c8e-6e36b9e43e40",
      "metadata": {
        "id": "2ad8996c-7dac-4d3a-9c8e-6e36b9e43e40"
      },
      "outputs": [],
      "source": [
        "def factorial(n):\n",
        "    return reduce(lambda x, y: x*y, range(1, n+1))"
      ]
    },
    {
      "cell_type": "code",
      "execution_count": null,
      "id": "b3247724-e498-42d6-aa6d-5a1dacc7bfcc",
      "metadata": {
        "id": "b3247724-e498-42d6-aa6d-5a1dacc7bfcc",
        "outputId": "343ab77e-6465-4643-ee47-8f054e1eff53"
      },
      "outputs": [
        {
          "data": {
            "text/plain": [
              "120"
            ]
          },
          "execution_count": 47,
          "metadata": {},
          "output_type": "execute_result"
        }
      ],
      "source": [
        "factorial(5)"
      ]
    },
    {
      "cell_type": "code",
      "execution_count": null,
      "id": "c16f9290-c709-409f-a0b5-a30697404c38",
      "metadata": {
        "id": "c16f9290-c709-409f-a0b5-a30697404c38"
      },
      "outputs": [],
      "source": [
        "#filter function >> it is used to filter elements from an iterable based on some condition\n",
        "#syntax>> filter(function, iterable)"
      ]
    },
    {
      "cell_type": "code",
      "execution_count": null,
      "id": "f4f4586e-9c68-40c2-9931-6329c3052e52",
      "metadata": {
        "id": "f4f4586e-9c68-40c2-9931-6329c3052e52",
        "outputId": "3e924bfb-9d46-4794-a55d-0f7e6878fd9a"
      },
      "outputs": [
        {
          "data": {
            "text/plain": [
              "[2, 1, 3, 4, 4, 5, 6]"
            ]
          },
          "execution_count": 49,
          "metadata": {},
          "output_type": "execute_result"
        }
      ],
      "source": [
        "l"
      ]
    },
    {
      "cell_type": "code",
      "execution_count": null,
      "id": "9a8f6a8a-0f8f-4a29-9c31-7b3da8729177",
      "metadata": {
        "id": "9a8f6a8a-0f8f-4a29-9c31-7b3da8729177",
        "outputId": "c734a286-db1f-48e4-f258-cccf93832cce"
      },
      "outputs": [
        {
          "data": {
            "text/plain": [
              "[2, 4, 4, 6]"
            ]
          },
          "execution_count": 50,
          "metadata": {},
          "output_type": "execute_result"
        }
      ],
      "source": [
        "list(filter(lambda x: x%2 == 0, l))"
      ]
    },
    {
      "cell_type": "code",
      "execution_count": null,
      "id": "e1602261-98ad-43aa-8fb4-34e5e02f460e",
      "metadata": {
        "id": "e1602261-98ad-43aa-8fb4-34e5e02f460e",
        "outputId": "d26e18f5-eccc-4af2-ac98-a8b8c49d206d"
      },
      "outputs": [
        {
          "data": {
            "text/plain": [
              "[1, 3, 5]"
            ]
          },
          "execution_count": 51,
          "metadata": {},
          "output_type": "execute_result"
        }
      ],
      "source": [
        "list(filter(lambda x: x%2 != 0, l))"
      ]
    },
    {
      "cell_type": "code",
      "execution_count": null,
      "id": "627a19ed-8475-4eb9-a948-49c990834f86",
      "metadata": {
        "id": "627a19ed-8475-4eb9-a948-49c990834f86",
        "outputId": "3318bcda-65a4-46f1-dc4c-7ea195689dbd"
      },
      "outputs": [
        {
          "data": {
            "text/plain": [
              "[-1, -2]"
            ]
          },
          "execution_count": 53,
          "metadata": {},
          "output_type": "execute_result"
        }
      ],
      "source": [
        "l1 = [-1, -2, 3, 4, 5]\n",
        "list(filter(lambda x: x < 0, l1))"
      ]
    },
    {
      "cell_type": "code",
      "execution_count": null,
      "id": "9ffc61c6-2913-463e-a647-28c87c48d53c",
      "metadata": {
        "id": "9ffc61c6-2913-463e-a647-28c87c48d53c",
        "outputId": "553605f2-398f-4bcf-8c08-04761ae81d7a"
      },
      "outputs": [
        {
          "data": {
            "text/plain": [
              "[3, 4, 5]"
            ]
          },
          "execution_count": 54,
          "metadata": {},
          "output_type": "execute_result"
        }
      ],
      "source": [
        "list(filter(lambda x: x > 0, l1))"
      ]
    },
    {
      "cell_type": "code",
      "execution_count": null,
      "id": "712cea4c-1d69-4431-9f18-edb771b10135",
      "metadata": {
        "id": "712cea4c-1d69-4431-9f18-edb771b10135",
        "outputId": "01b5e2be-7c8a-411c-abc0-af04e6236a30"
      },
      "outputs": [
        {
          "data": {
            "text/plain": [
              "['pwskills', 'data scince']"
            ]
          },
          "execution_count": 55,
          "metadata": {},
          "output_type": "execute_result"
        }
      ],
      "source": [
        "s = [\"Ajay\", \"pwskills\", \"data scince\"]\n",
        "list(filter(lambda x: len(x) > 4, s))"
      ]
    },
    {
      "cell_type": "code",
      "execution_count": null,
      "id": "42a4b285-eccc-4807-b2fd-baa433cfa1fe",
      "metadata": {
        "id": "42a4b285-eccc-4807-b2fd-baa433cfa1fe"
      },
      "outputs": [],
      "source": [
        "def check_even(num):\n",
        "    if num%2 == 0"
      ]
    }
  ],
  "metadata": {
    "kernelspec": {
      "display_name": "Python 3 (ipykernel)",
      "language": "python",
      "name": "python3"
    },
    "language_info": {
      "codemirror_mode": {
        "name": "ipython",
        "version": 3
      },
      "file_extension": ".py",
      "mimetype": "text/x-python",
      "name": "python",
      "nbconvert_exporter": "python",
      "pygments_lexer": "ipython3",
      "version": "3.10.8"
    },
    "colab": {
      "provenance": [],
      "include_colab_link": true
    }
  },
  "nbformat": 4,
  "nbformat_minor": 5
}