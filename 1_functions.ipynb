{
  "cells": [
    {
      "cell_type": "markdown",
      "metadata": {
        "id": "view-in-github",
        "colab_type": "text"
      },
      "source": [
        "<a href=\"https://colab.research.google.com/github/Ankita-da/Basics-of-python/blob/main/1_functions.ipynb\" target=\"_parent\"><img src=\"https://colab.research.google.com/assets/colab-badge.svg\" alt=\"Open In Colab\"/></a>"
      ]
    },
    {
      "cell_type": "code",
      "execution_count": null,
      "id": "a3dc6c57-6890-41de-82b7-998bd0d89f59",
      "metadata": {
        "id": "a3dc6c57-6890-41de-82b7-998bd0d89f59",
        "outputId": "42e6b3aa-44df-4b2d-8d50-b37108b490f6"
      },
      "outputs": [
        {
          "name": "stdout",
          "output_type": "stream",
          "text": [
            "hello world\n"
          ]
        }
      ],
      "source": [
        "print(\"hello world\")"
      ]
    },
    {
      "cell_type": "code",
      "execution_count": null,
      "id": "0dd1ba3a-0e58-4cbd-9f20-f8065364d88a",
      "metadata": {
        "id": "0dd1ba3a-0e58-4cbd-9f20-f8065364d88a",
        "outputId": "010ff753-3e21-4ef7-a122-c4b029b6ab79"
      },
      "outputs": [
        {
          "data": {
            "text/plain": [
              "8"
            ]
          },
          "execution_count": 2,
          "metadata": {},
          "output_type": "execute_result"
        }
      ],
      "source": [
        "len(\"pwskills\")"
      ]
    },
    {
      "cell_type": "code",
      "execution_count": null,
      "id": "0db0665b-328e-4875-b17c-7f3f666fbc24",
      "metadata": {
        "id": "0db0665b-328e-4875-b17c-7f3f666fbc24",
        "outputId": "0deb02ed-513a-452c-84aa-1e62859b49fc"
      },
      "outputs": [
        {
          "data": {
            "text/plain": [
              "int"
            ]
          },
          "execution_count": 3,
          "metadata": {},
          "output_type": "execute_result"
        }
      ],
      "source": [
        "type(7)"
      ]
    },
    {
      "cell_type": "code",
      "execution_count": null,
      "id": "f5da71b9-edb7-4923-80c2-b0059d369e82",
      "metadata": {
        "id": "f5da71b9-edb7-4923-80c2-b0059d369e82",
        "outputId": "bda3ccd9-bbe4-4b16-dbdf-d6669ccd9c97"
      },
      "outputs": [
        {
          "data": {
            "text/plain": [
              "float"
            ]
          },
          "execution_count": 4,
          "metadata": {},
          "output_type": "execute_result"
        }
      ],
      "source": [
        "type(6.7)"
      ]
    },
    {
      "cell_type": "code",
      "execution_count": null,
      "id": "59e5dd13-7e5a-4d3c-bf16-cf3dbdbaf726",
      "metadata": {
        "id": "59e5dd13-7e5a-4d3c-bf16-cf3dbdbaf726"
      },
      "outputs": [],
      "source": [
        "#functions>> print, len, type>>inbuilt python function\n",
        "#ceil >> roof>>nearest highest whole no value\n",
        "#floor >> grund>> nearest lowest whole no values"
      ]
    },
    {
      "cell_type": "code",
      "execution_count": null,
      "id": "e03af12d-5900-4a33-845d-2c3e17f7db98",
      "metadata": {
        "id": "e03af12d-5900-4a33-845d-2c3e17f7db98"
      },
      "outputs": [],
      "source": [
        "import math as m #math(library) is a collection of function"
      ]
    },
    {
      "cell_type": "code",
      "execution_count": null,
      "id": "0f91737c-7dc2-402d-a3cc-92cd91695fca",
      "metadata": {
        "id": "0f91737c-7dc2-402d-a3cc-92cd91695fca",
        "outputId": "8179d073-4729-4171-a5bc-7e5e81f5bbfb"
      },
      "outputs": [
        {
          "data": {
            "text/plain": [
              "7"
            ]
          },
          "execution_count": 8,
          "metadata": {},
          "output_type": "execute_result"
        }
      ],
      "source": [
        "m.ceil(6.5)"
      ]
    },
    {
      "cell_type": "code",
      "execution_count": null,
      "id": "a226ee9c-4161-4295-85e8-b8eb262a1e75",
      "metadata": {
        "id": "a226ee9c-4161-4295-85e8-b8eb262a1e75",
        "outputId": "ad424e14-7698-4201-8564-993d97fbb940"
      },
      "outputs": [
        {
          "data": {
            "text/plain": [
              "6"
            ]
          },
          "execution_count": 9,
          "metadata": {},
          "output_type": "execute_result"
        }
      ],
      "source": [
        "m.floor(6.5)"
      ]
    },
    {
      "cell_type": "code",
      "execution_count": null,
      "id": "57caeb5b-0b85-4d07-ab40-28cba03a01f7",
      "metadata": {
        "id": "57caeb5b-0b85-4d07-ab40-28cba03a01f7",
        "outputId": "83d59134-bec3-47ba-b465-99589aeefe40"
      },
      "outputs": [
        {
          "data": {
            "text/plain": [
              "7"
            ]
          },
          "execution_count": 11,
          "metadata": {},
          "output_type": "execute_result"
        }
      ],
      "source": [
        "m.floor(7.8)"
      ]
    },
    {
      "cell_type": "code",
      "execution_count": null,
      "id": "dbdbe93a-bdbc-4eef-a7d8-ebb9aa426d8f",
      "metadata": {
        "id": "dbdbe93a-bdbc-4eef-a7d8-ebb9aa426d8f",
        "outputId": "0012024e-9ad9-4a1a-974f-c8545b0210e4"
      },
      "outputs": [
        {
          "data": {
            "text/plain": [
              "100"
            ]
          },
          "execution_count": 12,
          "metadata": {},
          "output_type": "execute_result"
        }
      ],
      "source": [
        "m.floor(100.1)"
      ]
    },
    {
      "cell_type": "code",
      "execution_count": null,
      "id": "b45b9fbb-412b-447c-a3c3-3d6be5115d7e",
      "metadata": {
        "id": "b45b9fbb-412b-447c-a3c3-3d6be5115d7e"
      },
      "outputs": [],
      "source": [
        "#function>> inbuilt function\n",
        "#user defined function"
      ]
    },
    {
      "cell_type": "code",
      "execution_count": null,
      "id": "8f9bf618-1a59-4577-b3bc-32a13f72d36d",
      "metadata": {
        "id": "8f9bf618-1a59-4577-b3bc-32a13f72d36d"
      },
      "outputs": [],
      "source": [
        "#function is a block of code which performs some specific task/computation\n",
        "#why function?>> functions are reusable, neat, clean and organised, saves your time"
      ]
    },
    {
      "cell_type": "code",
      "execution_count": null,
      "id": "22a65490-0630-4d81-bbaf-e6b6b8aa8f90",
      "metadata": {
        "id": "22a65490-0630-4d81-bbaf-e6b6b8aa8f90"
      },
      "outputs": [],
      "source": [
        "#syntax of function\n",
        "#def func():\n",
        "    #do something>> body of function"
      ]
    },
    {
      "cell_type": "code",
      "execution_count": null,
      "id": "094594bc-c29f-4be0-94c4-cf6a7276cdb8",
      "metadata": {
        "id": "094594bc-c29f-4be0-94c4-cf6a7276cdb8",
        "outputId": "f2518bd3-6c21-4d89-e8ff-2105eaea6b07"
      },
      "outputs": [
        {
          "name": "stdout",
          "output_type": "stream",
          "text": [
            "Welcome to the office Rahul\n",
            "Welcome to the office Shyam\n",
            "Welcome to the office Anshika\n"
          ]
        }
      ],
      "source": [
        "print(\"Welcome to the office Rahul\")\n",
        "print(\"Welcome to the office Shyam\")\n",
        "print(\"Welcome to the office Anshika\")"
      ]
    },
    {
      "cell_type": "code",
      "execution_count": null,
      "id": "08308041-9569-4cfa-8608-4ade23d3f422",
      "metadata": {
        "id": "08308041-9569-4cfa-8608-4ade23d3f422"
      },
      "outputs": [],
      "source": [
        "print(\"hello world\") #in print, you call function by name, prin() and provide a value inside paranthesis"
      ]
    },
    {
      "cell_type": "code",
      "execution_count": null,
      "id": "58cf72c2-62e8-4279-81d3-226763314cfc",
      "metadata": {
        "id": "58cf72c2-62e8-4279-81d3-226763314cfc"
      },
      "outputs": [],
      "source": [
        "def greetings():\n",
        "    print(\"Welcome to the office\")"
      ]
    },
    {
      "cell_type": "code",
      "execution_count": null,
      "id": "65d641c0-aea1-4c91-b5de-ff85232e9e34",
      "metadata": {
        "id": "65d641c0-aea1-4c91-b5de-ff85232e9e34",
        "outputId": "d858a1a8-01d4-4f34-acfb-1def6fc9147f"
      },
      "outputs": [
        {
          "name": "stdout",
          "output_type": "stream",
          "text": [
            "Welcome to the office\n"
          ]
        }
      ],
      "source": [
        "greetings()"
      ]
    },
    {
      "cell_type": "code",
      "execution_count": null,
      "id": "cf653a24-36b8-4c6d-9248-188c777d8868",
      "metadata": {
        "id": "cf653a24-36b8-4c6d-9248-188c777d8868",
        "outputId": "b6763ffc-9207-4b0a-976c-86e1815ad211"
      },
      "outputs": [
        {
          "name": "stdout",
          "output_type": "stream",
          "text": [
            "Welcome to the office\n"
          ]
        }
      ],
      "source": [
        "greetings()"
      ]
    },
    {
      "cell_type": "code",
      "execution_count": null,
      "id": "fd907ba0-4e86-4037-aa30-498b768af950",
      "metadata": {
        "id": "fd907ba0-4e86-4037-aa30-498b768af950",
        "outputId": "d1ff4257-7e6a-4743-f26e-f87de91a05f0"
      },
      "outputs": [
        {
          "name": "stdout",
          "output_type": "stream",
          "text": [
            "Welcome to the office\n"
          ]
        }
      ],
      "source": [
        "greetings()"
      ]
    },
    {
      "cell_type": "code",
      "execution_count": null,
      "id": "4441c60b-5bf1-44a5-b597-76cc04bfcf92",
      "metadata": {
        "id": "4441c60b-5bf1-44a5-b597-76cc04bfcf92",
        "outputId": "039f52ed-e43f-4948-f6a0-699737ddf9dc"
      },
      "outputs": [
        {
          "name": "stdout",
          "output_type": "stream",
          "text": [
            "Welcome to the office\n"
          ]
        }
      ],
      "source": [
        "greetings()"
      ]
    },
    {
      "cell_type": "code",
      "execution_count": null,
      "id": "b69fb3aa-5d64-4a69-aa3a-2fd549367b92",
      "metadata": {
        "id": "b69fb3aa-5d64-4a69-aa3a-2fd549367b92"
      },
      "outputs": [],
      "source": [
        "def greetings(name): #passing a variable inside a function >> name is positional arguement\n",
        "    print(\"Welcome to the office\", name)"
      ]
    },
    {
      "cell_type": "code",
      "execution_count": null,
      "id": "c73904e4-7d55-4dd1-96c2-1b8c5f81c859",
      "metadata": {
        "id": "c73904e4-7d55-4dd1-96c2-1b8c5f81c859",
        "outputId": "8f935c92-8f17-4985-fd9a-fc0ef4e1ed93"
      },
      "outputs": [
        {
          "name": "stdout",
          "output_type": "stream",
          "text": [
            "Welcome to the office Ajay\n"
          ]
        }
      ],
      "source": [
        "greetings(\"Ajay\")"
      ]
    },
    {
      "cell_type": "code",
      "execution_count": null,
      "id": "591d921f-9a83-4bde-8f1e-4149cd9ea91c",
      "metadata": {
        "id": "591d921f-9a83-4bde-8f1e-4149cd9ea91c",
        "outputId": "fc19bf81-bcb4-467f-9560-fb9a5430936c"
      },
      "outputs": [
        {
          "name": "stdout",
          "output_type": "stream",
          "text": [
            "Welcome to the office Bijay\n"
          ]
        }
      ],
      "source": [
        "greetings(\"Bijay\")"
      ]
    },
    {
      "cell_type": "code",
      "execution_count": null,
      "id": "4c36685f-13dd-4607-92ac-5aad52d5401c",
      "metadata": {
        "id": "4c36685f-13dd-4607-92ac-5aad52d5401c",
        "outputId": "d9dfe7ea-fd65-40ef-d150-529915efe544"
      },
      "outputs": [
        {
          "name": "stdout",
          "output_type": "stream",
          "text": [
            "Welcome to the office Sanjay\n"
          ]
        }
      ],
      "source": [
        "greetings(\"Sanjay\")"
      ]
    },
    {
      "cell_type": "code",
      "execution_count": null,
      "id": "d8b29ece-2532-409f-9488-a88b7c8d57e5",
      "metadata": {
        "id": "d8b29ece-2532-409f-9488-a88b7c8d57e5",
        "outputId": "dc2fb0f9-b1d3-4536-d791-ab9ae0c0d05a"
      },
      "outputs": [
        {
          "ename": "TypeError",
          "evalue": "greetings() missing 1 required positional argument: 'name'",
          "output_type": "error",
          "traceback": [
            "\u001b[0;31m---------------------------------------------------------------------------\u001b[0m",
            "\u001b[0;31mTypeError\u001b[0m                                 Traceback (most recent call last)",
            "Cell \u001b[0;32mIn[25], line 1\u001b[0m\n\u001b[0;32m----> 1\u001b[0m \u001b[43mgreetings\u001b[49m\u001b[43m(\u001b[49m\u001b[43m)\u001b[49m \u001b[38;5;66;03m#it will throw an error\u001b[39;00m\n",
            "\u001b[0;31mTypeError\u001b[0m: greetings() missing 1 required positional argument: 'name'"
          ]
        }
      ],
      "source": [
        "greetings() #it will throw an error"
      ]
    },
    {
      "cell_type": "code",
      "execution_count": null,
      "id": "7a5a34f5-071a-45a9-b884-743603885e24",
      "metadata": {
        "id": "7a5a34f5-071a-45a9-b884-743603885e24"
      },
      "outputs": [],
      "source": [
        "def greet(ajay):\n",
        "    print(\"Welcome to the office\", ajay)"
      ]
    },
    {
      "cell_type": "code",
      "execution_count": null,
      "id": "37bf0d17-f889-4f15-b509-7abd8a3a72fc",
      "metadata": {
        "id": "37bf0d17-f889-4f15-b509-7abd8a3a72fc",
        "outputId": "e8479408-b98b-4e90-d3c3-39c5c03bb001"
      },
      "outputs": [
        {
          "name": "stdout",
          "output_type": "stream",
          "text": [
            "Welcome to the office Bijay\n"
          ]
        }
      ],
      "source": [
        "greet(\"Bijay\")"
      ]
    },
    {
      "cell_type": "code",
      "execution_count": null,
      "id": "f83dd054-63ab-4205-b11c-6297be1892c7",
      "metadata": {
        "id": "f83dd054-63ab-4205-b11c-6297be1892c7",
        "outputId": "716915e5-95f6-47b0-e1d1-44e57301a995"
      },
      "outputs": [
        {
          "name": "stdout",
          "output_type": "stream",
          "text": [
            "Welcome to the office Sanjay\n"
          ]
        }
      ],
      "source": [
        "greet(\"Sanjay\")"
      ]
    },
    {
      "cell_type": "code",
      "execution_count": null,
      "id": "58813470-1400-45a8-a50e-f11c09f26877",
      "metadata": {
        "id": "58813470-1400-45a8-a50e-f11c09f26877",
        "outputId": "e8c257db-94e1-4393-d0e8-480b4e72e934"
      },
      "outputs": [
        {
          "name": "stdout",
          "output_type": "stream",
          "text": [
            "This is my first function\n"
          ]
        }
      ],
      "source": [
        "def func():\n",
        "    print(\"This is my first function\")\n",
        "\n",
        "func()"
      ]
    },
    {
      "cell_type": "code",
      "execution_count": null,
      "id": "2606170d-c001-43b2-b393-fe5a2c23596f",
      "metadata": {
        "id": "2606170d-c001-43b2-b393-fe5a2c23596f",
        "outputId": "919b5985-75a4-4335-b6a2-d911e0b7bb2e"
      },
      "outputs": [
        {
          "data": {
            "text/plain": [
              "'This is my first function in Python'"
            ]
          },
          "execution_count": 33,
          "metadata": {},
          "output_type": "execute_result"
        }
      ],
      "source": [
        "\"This is my first function\" + \" in Python\""
      ]
    },
    {
      "cell_type": "code",
      "execution_count": null,
      "id": "efd46533-8d42-47ba-afa8-668dd0eb64fe",
      "metadata": {
        "id": "efd46533-8d42-47ba-afa8-668dd0eb64fe",
        "outputId": "de885931-eb85-4eb7-cbde-e341634a6f35"
      },
      "outputs": [
        {
          "name": "stdout",
          "output_type": "stream",
          "text": [
            "This is my first function\n"
          ]
        },
        {
          "ename": "TypeError",
          "evalue": "unsupported operand type(s) for +: 'NoneType' and 'str'",
          "output_type": "error",
          "traceback": [
            "\u001b[0;31m---------------------------------------------------------------------------\u001b[0m",
            "\u001b[0;31mTypeError\u001b[0m                                 Traceback (most recent call last)",
            "Cell \u001b[0;32mIn[35], line 1\u001b[0m\n\u001b[0;32m----> 1\u001b[0m \u001b[43mfunc\u001b[49m\u001b[43m(\u001b[49m\u001b[43m)\u001b[49m\u001b[43m \u001b[49m\u001b[38;5;241;43m+\u001b[39;49m\u001b[43m \u001b[49m\u001b[38;5;124;43m\"\u001b[39;49m\u001b[38;5;124;43m in Python\u001b[39;49m\u001b[38;5;124;43m\"\u001b[39;49m \u001b[38;5;66;03m#throw an error\u001b[39;00m\n",
            "\u001b[0;31mTypeError\u001b[0m: unsupported operand type(s) for +: 'NoneType' and 'str'"
          ]
        }
      ],
      "source": [
        "func() + \" in Python\" #throw an error"
      ]
    },
    {
      "cell_type": "code",
      "execution_count": null,
      "id": "b7475b69-e419-4f1b-9ab9-e40807f43cad",
      "metadata": {
        "id": "b7475b69-e419-4f1b-9ab9-e40807f43cad",
        "outputId": "1bbb737d-e7ea-47db-920a-449cab2ff65d"
      },
      "outputs": [
        {
          "name": "stdout",
          "output_type": "stream",
          "text": [
            "This is my first function\n",
            "<class 'NoneType'>\n"
          ]
        }
      ],
      "source": [
        "print(type(func()))"
      ]
    },
    {
      "cell_type": "code",
      "execution_count": null,
      "id": "2aadfe00-c9e7-4765-a63f-b3504c99d131",
      "metadata": {
        "id": "2aadfe00-c9e7-4765-a63f-b3504c99d131",
        "outputId": "f4c07063-51cc-44c1-b120-f085c8b8cc0c"
      },
      "outputs": [
        {
          "data": {
            "text/plain": [
              "'This is my first function in Python'"
            ]
          },
          "execution_count": 38,
          "metadata": {},
          "output_type": "execute_result"
        }
      ],
      "source": [
        "def func():#return>> output of a function\n",
        "    #do something\n",
        "    return \"This is my first function\"\n",
        "\n",
        "func() + \" in Python\""
      ]
    },
    {
      "cell_type": "code",
      "execution_count": null,
      "id": "f12a2c3c-582e-4231-8284-b6f6442c9a44",
      "metadata": {
        "id": "f12a2c3c-582e-4231-8284-b6f6442c9a44"
      },
      "outputs": [],
      "source": [
        "def func():\n",
        "    return \"this is my first function\", 1, 2.2, True, 3+7j"
      ]
    },
    {
      "cell_type": "code",
      "execution_count": null,
      "id": "d64943d1-8d44-45f9-9e42-e4f92e98092d",
      "metadata": {
        "id": "d64943d1-8d44-45f9-9e42-e4f92e98092d",
        "outputId": "fb5bad23-876b-465b-81fe-6e4a841c6e50"
      },
      "outputs": [
        {
          "data": {
            "text/plain": [
              "('this is my first function', 1, 2.2, True, (3+7j))"
            ]
          },
          "execution_count": 40,
          "metadata": {},
          "output_type": "execute_result"
        }
      ],
      "source": [
        "func()"
      ]
    },
    {
      "cell_type": "code",
      "execution_count": null,
      "id": "b57836b4-13f0-4bbc-825c-2561ded56caf",
      "metadata": {
        "id": "b57836b4-13f0-4bbc-825c-2561ded56caf",
        "outputId": "a37c99cc-6b0f-4067-f2d9-b23e1ca392fe"
      },
      "outputs": [
        {
          "data": {
            "text/plain": [
              "tuple"
            ]
          },
          "execution_count": 41,
          "metadata": {},
          "output_type": "execute_result"
        }
      ],
      "source": [
        "a = func()\n",
        "type(a)"
      ]
    },
    {
      "cell_type": "code",
      "execution_count": null,
      "id": "0da98082-d6df-4ce8-b285-554273c62c7f",
      "metadata": {
        "id": "0da98082-d6df-4ce8-b285-554273c62c7f"
      },
      "outputs": [],
      "source": [
        "a, b, c, d, e = func()"
      ]
    },
    {
      "cell_type": "code",
      "execution_count": null,
      "id": "45d43036-ee14-4b98-935a-ef738e464614",
      "metadata": {
        "id": "45d43036-ee14-4b98-935a-ef738e464614",
        "outputId": "9cdbe8ff-29dc-44cc-a43a-b0d7b76a6886"
      },
      "outputs": [
        {
          "data": {
            "text/plain": [
              "'this is my first function'"
            ]
          },
          "execution_count": 44,
          "metadata": {},
          "output_type": "execute_result"
        }
      ],
      "source": [
        "a"
      ]
    },
    {
      "cell_type": "code",
      "execution_count": null,
      "id": "94347889-571d-42b3-8ec0-46ab036da7e6",
      "metadata": {
        "id": "94347889-571d-42b3-8ec0-46ab036da7e6",
        "outputId": "8821302d-3581-418f-ad68-63577dd73cf9"
      },
      "outputs": [
        {
          "data": {
            "text/plain": [
              "1"
            ]
          },
          "execution_count": 45,
          "metadata": {},
          "output_type": "execute_result"
        }
      ],
      "source": [
        "b"
      ]
    },
    {
      "cell_type": "code",
      "execution_count": null,
      "id": "dc9ccff3-8d1b-4424-a54f-a9a4317901f8",
      "metadata": {
        "id": "dc9ccff3-8d1b-4424-a54f-a9a4317901f8",
        "outputId": "83e9ec59-d1c2-4eb5-faa2-da93094de7b7"
      },
      "outputs": [
        {
          "data": {
            "text/plain": [
              "2.2"
            ]
          },
          "execution_count": 46,
          "metadata": {},
          "output_type": "execute_result"
        }
      ],
      "source": [
        "c"
      ]
    },
    {
      "cell_type": "code",
      "execution_count": null,
      "id": "49e8cf0d-4fec-4f59-85e9-477ceff11aa5",
      "metadata": {
        "id": "49e8cf0d-4fec-4f59-85e9-477ceff11aa5",
        "outputId": "0042b154-8ee1-4a0b-e715-eec8b2eb8562"
      },
      "outputs": [
        {
          "data": {
            "text/plain": [
              "True"
            ]
          },
          "execution_count": 47,
          "metadata": {},
          "output_type": "execute_result"
        }
      ],
      "source": [
        "d"
      ]
    },
    {
      "cell_type": "code",
      "execution_count": null,
      "id": "5ddeeacb-6b0f-432a-b6b3-2f5efa19d824",
      "metadata": {
        "id": "5ddeeacb-6b0f-432a-b6b3-2f5efa19d824",
        "outputId": "67645883-798a-419b-a564-712925dab1dc"
      },
      "outputs": [
        {
          "data": {
            "text/plain": [
              "(3+7j)"
            ]
          },
          "execution_count": 48,
          "metadata": {},
          "output_type": "execute_result"
        }
      ],
      "source": [
        "e"
      ]
    },
    {
      "cell_type": "code",
      "execution_count": null,
      "id": "900ce58d-dab1-4c58-8fde-380c03c9defb",
      "metadata": {
        "id": "900ce58d-dab1-4c58-8fde-380c03c9defb",
        "outputId": "64fa5d96-f3f8-44cd-bafe-81f9d06a4f4d"
      },
      "outputs": [
        {
          "ename": "ValueError",
          "evalue": "too many values to unpack (expected 4)",
          "output_type": "error",
          "traceback": [
            "\u001b[0;31m---------------------------------------------------------------------------\u001b[0m",
            "\u001b[0;31mValueError\u001b[0m                                Traceback (most recent call last)",
            "Cell \u001b[0;32mIn[49], line 1\u001b[0m\n\u001b[0;32m----> 1\u001b[0m a, b, c, d,  \u001b[38;5;241m=\u001b[39m func()\n",
            "\u001b[0;31mValueError\u001b[0m: too many values to unpack (expected 4)"
          ]
        }
      ],
      "source": [
        "a, b, c, d,  = func()"
      ]
    },
    {
      "cell_type": "code",
      "execution_count": null,
      "id": "569dbbff-32ae-4a77-8be4-1653810a2113",
      "metadata": {
        "id": "569dbbff-32ae-4a77-8be4-1653810a2113",
        "outputId": "eb879ef1-b34b-4137-e8f8-237267776019"
      },
      "outputs": [
        {
          "data": {
            "text/plain": [
              "('this is my first function', 1, 2.2, True, (3+7j))"
            ]
          },
          "execution_count": 50,
          "metadata": {},
          "output_type": "execute_result"
        }
      ],
      "source": [
        "a = func()\n",
        "a"
      ]
    },
    {
      "cell_type": "code",
      "execution_count": null,
      "id": "8b37afe6-abdc-4f52-9a6b-cbdce8e8e702",
      "metadata": {
        "id": "8b37afe6-abdc-4f52-9a6b-cbdce8e8e702",
        "outputId": "2ec597e6-e32f-486a-98f2-13e649cc2ca5"
      },
      "outputs": [
        {
          "data": {
            "text/plain": [
              "'this is my first function'"
            ]
          },
          "execution_count": 51,
          "metadata": {},
          "output_type": "execute_result"
        }
      ],
      "source": [
        "a[0]"
      ]
    },
    {
      "cell_type": "code",
      "execution_count": null,
      "id": "5bb8dc0c-e7a6-440a-8519-3c9342ec2dfc",
      "metadata": {
        "id": "5bb8dc0c-e7a6-440a-8519-3c9342ec2dfc",
        "outputId": "304bc9ca-97cf-4d8b-c1fe-e4b73c1d991f"
      },
      "outputs": [
        {
          "data": {
            "text/plain": [
              "1"
            ]
          },
          "execution_count": 52,
          "metadata": {},
          "output_type": "execute_result"
        }
      ],
      "source": [
        "a[1]"
      ]
    },
    {
      "cell_type": "code",
      "execution_count": null,
      "id": "9d9e21d9-217e-4c2a-b926-3dd3c2d764df",
      "metadata": {
        "id": "9d9e21d9-217e-4c2a-b926-3dd3c2d764df"
      },
      "outputs": [],
      "source": [
        "def func():\n",
        "    calc = 2+3+6*5\n",
        "    return calc"
      ]
    },
    {
      "cell_type": "code",
      "execution_count": null,
      "id": "39640743-6492-4294-aa4a-1b4be1c9e04f",
      "metadata": {
        "id": "39640743-6492-4294-aa4a-1b4be1c9e04f",
        "outputId": "84837b47-4c9c-4ec6-de86-de2e90aa6631"
      },
      "outputs": [
        {
          "data": {
            "text/plain": [
              "35"
            ]
          },
          "execution_count": 55,
          "metadata": {},
          "output_type": "execute_result"
        }
      ],
      "source": [
        "func()"
      ]
    },
    {
      "cell_type": "code",
      "execution_count": null,
      "id": "eec41e72-7262-4d33-b37e-a0f9e1863f75",
      "metadata": {
        "id": "eec41e72-7262-4d33-b37e-a0f9e1863f75",
        "outputId": "52e61a16-ccb5-4673-c7d6-0e2d4396450b"
      },
      "outputs": [
        {
          "data": {
            "text/plain": [
              "int"
            ]
          },
          "execution_count": 56,
          "metadata": {},
          "output_type": "execute_result"
        }
      ],
      "source": [
        "type(func())"
      ]
    },
    {
      "cell_type": "code",
      "execution_count": null,
      "id": "3947922a-609f-45d9-9b74-54953fd2f8c3",
      "metadata": {
        "id": "3947922a-609f-45d9-9b74-54953fd2f8c3"
      },
      "outputs": [],
      "source": [
        "def square_no(a): #a is called as an arguement\n",
        "    return a*a"
      ]
    },
    {
      "cell_type": "code",
      "execution_count": null,
      "id": "e32e2ebb-0330-4e61-86b9-7bacf014ee0b",
      "metadata": {
        "id": "e32e2ebb-0330-4e61-86b9-7bacf014ee0b",
        "outputId": "1fece708-1400-40c9-ab33-464db127068e"
      },
      "outputs": [
        {
          "data": {
            "text/plain": [
              "25"
            ]
          },
          "execution_count": 58,
          "metadata": {},
          "output_type": "execute_result"
        }
      ],
      "source": [
        "square_no(5)"
      ]
    },
    {
      "cell_type": "code",
      "execution_count": null,
      "id": "59253082-0953-4df4-85d6-87311621686e",
      "metadata": {
        "id": "59253082-0953-4df4-85d6-87311621686e",
        "outputId": "02f039a3-1071-429d-9e35-f130e0f477a4"
      },
      "outputs": [
        {
          "data": {
            "text/plain": [
              "1000000"
            ]
          },
          "execution_count": 59,
          "metadata": {},
          "output_type": "execute_result"
        }
      ],
      "source": [
        "square_no(1000)"
      ]
    },
    {
      "cell_type": "code",
      "execution_count": null,
      "id": "f20d0cac-7d56-4a08-8659-e2c674c837f7",
      "metadata": {
        "id": "f20d0cac-7d56-4a08-8659-e2c674c837f7",
        "outputId": "18e88a3c-1a28-4ee2-efdc-56696ed04fd2"
      },
      "outputs": [
        {
          "data": {
            "text/plain": [
              "11236"
            ]
          },
          "execution_count": 60,
          "metadata": {},
          "output_type": "execute_result"
        }
      ],
      "source": [
        "def square_no(args):\n",
        "    return args*args\n",
        "\n",
        "square_no(106)"
      ]
    },
    {
      "cell_type": "code",
      "execution_count": null,
      "id": "70660081-1469-46df-bf25-9ff73b7202ee",
      "metadata": {
        "id": "70660081-1469-46df-bf25-9ff73b7202ee"
      },
      "outputs": [],
      "source": [
        "def addition(a, b):\n",
        "    return a+b"
      ]
    },
    {
      "cell_type": "code",
      "execution_count": null,
      "id": "ed9663a0-4242-4796-a1fc-388e9c41d8b9",
      "metadata": {
        "id": "ed9663a0-4242-4796-a1fc-388e9c41d8b9",
        "outputId": "1efcf171-5ee2-44ef-a7f9-7344cbfe3cc9"
      },
      "outputs": [
        {
          "data": {
            "text/plain": [
              "11"
            ]
          },
          "execution_count": 62,
          "metadata": {},
          "output_type": "execute_result"
        }
      ],
      "source": [
        "addition(5, 6)"
      ]
    },
    {
      "cell_type": "code",
      "execution_count": null,
      "id": "7e73cb68-9233-46a6-9a01-a832bba390ae",
      "metadata": {
        "id": "7e73cb68-9233-46a6-9a01-a832bba390ae",
        "outputId": "4bd03eda-a2f2-4d00-faec-9c37d9c13614"
      },
      "outputs": [
        {
          "data": {
            "text/plain": [
              "31"
            ]
          },
          "execution_count": 63,
          "metadata": {},
          "output_type": "execute_result"
        }
      ],
      "source": [
        "addition(11, 20)"
      ]
    },
    {
      "cell_type": "code",
      "execution_count": null,
      "id": "254e9278-485d-4514-a3b8-a7193d83276a",
      "metadata": {
        "id": "254e9278-485d-4514-a3b8-a7193d83276a",
        "outputId": "9c8a12e9-755f-41f2-9d3c-f10cf439a139"
      },
      "outputs": [
        {
          "data": {
            "text/plain": [
              "'pwskills'"
            ]
          },
          "execution_count": 64,
          "metadata": {},
          "output_type": "execute_result"
        }
      ],
      "source": [
        "addition(\"pw\", \"skills\")"
      ]
    },
    {
      "cell_type": "code",
      "execution_count": null,
      "id": "8cc8e1c3-7dec-4813-805b-929456467cef",
      "metadata": {
        "id": "8cc8e1c3-7dec-4813-805b-929456467cef",
        "outputId": "f0df1f68-df14-433b-bb07-52db72a840d3"
      },
      "outputs": [
        {
          "data": {
            "text/plain": [
              "'pwskills'"
            ]
          },
          "execution_count": 65,
          "metadata": {},
          "output_type": "execute_result"
        }
      ],
      "source": [
        "\"pw\"+\"skills\""
      ]
    },
    {
      "cell_type": "code",
      "execution_count": null,
      "id": "21f595f6-817a-49ba-817e-3c53e736fc8a",
      "metadata": {
        "id": "21f595f6-817a-49ba-817e-3c53e736fc8a",
        "outputId": "a8e3ea2b-c13c-41c8-e49b-a3ed37d0ca24"
      },
      "outputs": [
        {
          "data": {
            "text/plain": [
              "[1, 2, 3, 4, 5, 6]"
            ]
          },
          "execution_count": 66,
          "metadata": {},
          "output_type": "execute_result"
        }
      ],
      "source": [
        "addition([1, 2, 3], [4, 5, 6])"
      ]
    },
    {
      "cell_type": "code",
      "execution_count": null,
      "id": "a60e8e13-4ba7-4bad-ae2a-7a61e1f8a26e",
      "metadata": {
        "id": "a60e8e13-4ba7-4bad-ae2a-7a61e1f8a26e",
        "outputId": "3833717e-c433-4e63-9817-55704555564f"
      },
      "outputs": [
        {
          "data": {
            "text/plain": [
              "[1, 2, 3, 4, 5, 6]"
            ]
          },
          "execution_count": 67,
          "metadata": {},
          "output_type": "execute_result"
        }
      ],
      "source": [
        "[1, 2, 3] + [4, 5, 6]"
      ]
    },
    {
      "cell_type": "code",
      "execution_count": null,
      "id": "482a5b82-54e9-4da5-b293-941c3a9ea880",
      "metadata": {
        "id": "482a5b82-54e9-4da5-b293-941c3a9ea880"
      },
      "outputs": [],
      "source": [
        "def addition(a, b):\n",
        "    return a+b"
      ]
    },
    {
      "cell_type": "code",
      "execution_count": null,
      "id": "2ce103dc-9cf2-4272-836f-e39cff690957",
      "metadata": {
        "id": "2ce103dc-9cf2-4272-836f-e39cff690957",
        "outputId": "35298479-03f9-4718-b637-e0ed03433285"
      },
      "outputs": [
        {
          "data": {
            "text/plain": [
              "'pwskills'"
            ]
          },
          "execution_count": 71,
          "metadata": {},
          "output_type": "execute_result"
        }
      ],
      "source": [
        "addition(\"pw\", \"skills\")"
      ]
    },
    {
      "cell_type": "code",
      "execution_count": null,
      "id": "bfd9681c-7b07-46d2-a766-2d6c415f83f8",
      "metadata": {
        "id": "bfd9681c-7b07-46d2-a766-2d6c415f83f8",
        "outputId": "3f79034b-8b64-4d59-ed08-643828b0334d"
      },
      "outputs": [
        {
          "data": {
            "text/plain": [
              "'skillspw'"
            ]
          },
          "execution_count": 69,
          "metadata": {},
          "output_type": "execute_result"
        }
      ],
      "source": [
        "addition(\"skills\", \"pw\")"
      ]
    },
    {
      "cell_type": "code",
      "execution_count": null,
      "id": "66b4f2a3-21f5-4d8b-adc8-8013de3e097a",
      "metadata": {
        "id": "66b4f2a3-21f5-4d8b-adc8-8013de3e097a",
        "outputId": "7946f7b4-115c-48bc-f8d6-82dc42182ddd"
      },
      "outputs": [
        {
          "data": {
            "text/plain": [
              "'pwskills'"
            ]
          },
          "execution_count": 72,
          "metadata": {},
          "output_type": "execute_result"
        }
      ],
      "source": [
        "# a and b are positional arguements>> it maintains order\n",
        "\n",
        "\n",
        "addition(b=\"skills\", a=\"pw\")"
      ]
    },
    {
      "cell_type": "code",
      "execution_count": null,
      "id": "09798826-116f-4876-a76c-f6632115b80f",
      "metadata": {
        "id": "09798826-116f-4876-a76c-f6632115b80f"
      },
      "outputs": [],
      "source": [
        "def sum1(a, b, c):\n",
        "    return a+b+c"
      ]
    },
    {
      "cell_type": "code",
      "execution_count": null,
      "id": "82ade9a7-aa5b-45b9-9530-9ea869de9cf3",
      "metadata": {
        "id": "82ade9a7-aa5b-45b9-9530-9ea869de9cf3",
        "outputId": "b6c8680c-6a05-4e81-93b1-721da0e668a3"
      },
      "outputs": [
        {
          "data": {
            "text/plain": [
              "6"
            ]
          },
          "execution_count": 74,
          "metadata": {},
          "output_type": "execute_result"
        }
      ],
      "source": [
        "sum1(1, 2, 3)"
      ]
    },
    {
      "cell_type": "code",
      "execution_count": null,
      "id": "c1b0dc01-da3d-4beb-abd6-fd962bbce735",
      "metadata": {
        "id": "c1b0dc01-da3d-4beb-abd6-fd962bbce735"
      },
      "outputs": [],
      "source": [
        "#default argement\n",
        "def sum1(b, c, a=0):\n",
        "    return a+b+c"
      ]
    },
    {
      "cell_type": "code",
      "execution_count": null,
      "id": "b15f0cea-9082-4c09-b38e-e66383782311",
      "metadata": {
        "id": "b15f0cea-9082-4c09-b38e-e66383782311",
        "outputId": "48301a35-2dae-4712-9868-acf4f8129763"
      },
      "outputs": [
        {
          "data": {
            "text/plain": [
              "8"
            ]
          },
          "execution_count": 78,
          "metadata": {},
          "output_type": "execute_result"
        }
      ],
      "source": [
        "sum1(b=3, c=5)"
      ]
    },
    {
      "cell_type": "code",
      "execution_count": null,
      "id": "2ef96620-966f-4e05-9c8e-ad26a127388c",
      "metadata": {
        "id": "2ef96620-966f-4e05-9c8e-ad26a127388c"
      },
      "outputs": [],
      "source": [
        "def sum1(a, b, c):\n",
        "    return a+b+c"
      ]
    },
    {
      "cell_type": "code",
      "execution_count": null,
      "id": "955c7a14-705f-433c-af6e-7e24885c8f83",
      "metadata": {
        "id": "955c7a14-705f-433c-af6e-7e24885c8f83",
        "outputId": "2faad6f6-76d8-4b34-de89-c5fcae2f4361"
      },
      "outputs": [
        {
          "ename": "TypeError",
          "evalue": "sum1() missing 1 required positional argument: 'c'",
          "output_type": "error",
          "traceback": [
            "\u001b[0;31m---------------------------------------------------------------------------\u001b[0m",
            "\u001b[0;31mTypeError\u001b[0m                                 Traceback (most recent call last)",
            "Cell \u001b[0;32mIn[81], line 1\u001b[0m\n\u001b[0;32m----> 1\u001b[0m \u001b[43msum1\u001b[49m\u001b[43m(\u001b[49m\u001b[38;5;241;43m1\u001b[39;49m\u001b[43m,\u001b[49m\u001b[43m \u001b[49m\u001b[38;5;241;43m2\u001b[39;49m\u001b[43m)\u001b[49m\n",
            "\u001b[0;31mTypeError\u001b[0m: sum1() missing 1 required positional argument: 'c'"
          ]
        }
      ],
      "source": [
        "sum1(1, 2)"
      ]
    },
    {
      "cell_type": "code",
      "execution_count": null,
      "id": "38fe1f3d-d69c-4782-8d14-a384321fbf0a",
      "metadata": {
        "id": "38fe1f3d-d69c-4782-8d14-a384321fbf0a"
      },
      "outputs": [],
      "source": [
        "def sum1(a, b, c=0): #non-default argument follows default argument\n",
        "    return a+b+c"
      ]
    },
    {
      "cell_type": "code",
      "execution_count": null,
      "id": "faf21d8f-6709-49b6-9492-fd65966fbe99",
      "metadata": {
        "id": "faf21d8f-6709-49b6-9492-fd65966fbe99",
        "outputId": "14574455-20a7-4c02-fca1-2601af737e73"
      },
      "outputs": [
        {
          "data": {
            "text/plain": [
              "11"
            ]
          },
          "execution_count": 83,
          "metadata": {},
          "output_type": "execute_result"
        }
      ],
      "source": [
        "sum1(5, 6)"
      ]
    },
    {
      "cell_type": "code",
      "execution_count": null,
      "id": "25a6db56-7ace-400a-a188-d82244f1dde0",
      "metadata": {
        "id": "25a6db56-7ace-400a-a188-d82244f1dde0"
      },
      "outputs": [],
      "source": [
        "def sum1( b, c, a=0):\n",
        "    return a+b+c"
      ]
    },
    {
      "cell_type": "code",
      "execution_count": null,
      "id": "ae769168-3b7b-4c5e-a70d-682c0fc3e3bc",
      "metadata": {
        "id": "ae769168-3b7b-4c5e-a70d-682c0fc3e3bc",
        "outputId": "45f8b0b7-ca89-47f5-d36a-df2f9152adf3"
      },
      "outputs": [
        {
          "data": {
            "text/plain": [
              "5"
            ]
          },
          "execution_count": 86,
          "metadata": {},
          "output_type": "execute_result"
        }
      ],
      "source": [
        "sum1(2, 3)"
      ]
    },
    {
      "cell_type": "code",
      "execution_count": null,
      "id": "85db26ff-0bba-4f8d-b6d1-83092883b665",
      "metadata": {
        "id": "85db26ff-0bba-4f8d-b6d1-83092883b665"
      },
      "outputs": [],
      "source": [
        "def sum1(b=0, c=0, a=0):\n",
        "    return a+b+c"
      ]
    },
    {
      "cell_type": "code",
      "execution_count": null,
      "id": "4565150b-cf84-4572-bb2e-b9e9f2e06fe9",
      "metadata": {
        "id": "4565150b-cf84-4572-bb2e-b9e9f2e06fe9",
        "outputId": "9d0932a3-456d-46d2-b6a9-447fb9044077"
      },
      "outputs": [
        {
          "data": {
            "text/plain": [
              "6"
            ]
          },
          "execution_count": 90,
          "metadata": {},
          "output_type": "execute_result"
        }
      ],
      "source": [
        "sum1(1, 2, 3)"
      ]
    },
    {
      "cell_type": "code",
      "execution_count": null,
      "id": "f3642f34-2e52-49fb-8538-7ad61805743a",
      "metadata": {
        "id": "f3642f34-2e52-49fb-8538-7ad61805743a"
      },
      "outputs": [],
      "source": [
        "def sum1(b=5, c=0, a=0):\n",
        "    return a+b+c"
      ]
    },
    {
      "cell_type": "code",
      "execution_count": null,
      "id": "e249f9ea-6223-4855-9b0e-5f73dc976f44",
      "metadata": {
        "id": "e249f9ea-6223-4855-9b0e-5f73dc976f44",
        "outputId": "ed50568c-07e8-424a-8949-7e854bf28d43"
      },
      "outputs": [
        {
          "data": {
            "text/plain": [
              "5"
            ]
          },
          "execution_count": 92,
          "metadata": {},
          "output_type": "execute_result"
        }
      ],
      "source": [
        "sum1()"
      ]
    },
    {
      "cell_type": "code",
      "execution_count": null,
      "id": "ed643aff-08d4-4a42-9dc8-60e77fcd362d",
      "metadata": {
        "id": "ed643aff-08d4-4a42-9dc8-60e77fcd362d",
        "outputId": "a20ca4dd-99fa-4752-a33b-3940b94974d7"
      },
      "outputs": [
        {
          "data": {
            "text/plain": [
              "6"
            ]
          },
          "execution_count": 94,
          "metadata": {},
          "output_type": "execute_result"
        }
      ],
      "source": [
        "sum1(c=1)"
      ]
    },
    {
      "cell_type": "code",
      "execution_count": null,
      "id": "957e008c-a67f-4f15-a8f7-61363edb2f94",
      "metadata": {
        "id": "957e008c-a67f-4f15-a8f7-61363edb2f94",
        "outputId": "01788018-b87e-46e1-fe55-9ee8764ecee1"
      },
      "outputs": [
        {
          "data": {
            "text/plain": [
              "6"
            ]
          },
          "execution_count": 95,
          "metadata": {},
          "output_type": "execute_result"
        }
      ],
      "source": [
        "sum1(a=1)"
      ]
    },
    {
      "cell_type": "code",
      "execution_count": null,
      "id": "64f94c84-6f65-4dcf-b2b7-9e751426d136",
      "metadata": {
        "id": "64f94c84-6f65-4dcf-b2b7-9e751426d136"
      },
      "outputs": [],
      "source": [
        "def add_two_number():\n",
        "    a = int(input(\"enter the first no\"))\n",
        "    b = int(input(\"enter the second no\"))\n",
        "    return a+b"
      ]
    },
    {
      "cell_type": "code",
      "execution_count": null,
      "id": "c96107fa-ea25-4854-827c-45cddf4ea309",
      "metadata": {
        "id": "c96107fa-ea25-4854-827c-45cddf4ea309",
        "outputId": "1ec6bce2-8527-400b-8d30-54ced14342ed"
      },
      "outputs": [
        {
          "name": "stdin",
          "output_type": "stream",
          "text": [
            "enter the first no 7\n",
            "enter the second no 8\n"
          ]
        },
        {
          "data": {
            "text/plain": [
              "15"
            ]
          },
          "execution_count": 97,
          "metadata": {},
          "output_type": "execute_result"
        }
      ],
      "source": [
        "add_two_number()"
      ]
    },
    {
      "cell_type": "code",
      "execution_count": null,
      "id": "c1eab3ef-2a2f-4e08-b619-adb1ddfa527d",
      "metadata": {
        "id": "c1eab3ef-2a2f-4e08-b619-adb1ddfa527d"
      },
      "outputs": [],
      "source": [
        "#write a function that takes list as input and return all numeric values in a list"
      ]
    },
    {
      "cell_type": "code",
      "execution_count": null,
      "id": "25651cb4-faa4-4033-aa57-fc232cb112a5",
      "metadata": {
        "id": "25651cb4-faa4-4033-aa57-fc232cb112a5"
      },
      "outputs": [],
      "source": [
        "def only_numeric(a):\n",
        "    n = []\n",
        "    for i in a:\n",
        "        if type(i) == int or type(i) == float:\n",
        "            n.append(i)\n",
        "    return n"
      ]
    },
    {
      "cell_type": "code",
      "execution_count": null,
      "id": "4d8ff517-46f6-4130-a714-9880c9c5add3",
      "metadata": {
        "id": "4d8ff517-46f6-4130-a714-9880c9c5add3",
        "outputId": "d6c7012b-c00b-4753-be60-247ea623a4c2"
      },
      "outputs": [
        {
          "data": {
            "text/plain": [
              "[1, 2.2, 5, 6]"
            ]
          },
          "execution_count": 104,
          "metadata": {},
          "output_type": "execute_result"
        }
      ],
      "source": [
        "only_numeric([1, 2.2, \"Ajay\", True, 3+7j, \"pwskills\", 5, 6])"
      ]
    },
    {
      "cell_type": "code",
      "execution_count": null,
      "id": "cd56a2a7-839d-4b97-a2cb-680c9885030c",
      "metadata": {
        "id": "cd56a2a7-839d-4b97-a2cb-680c9885030c"
      },
      "outputs": [],
      "source": [
        "#now in input take nested list\n",
        "#only_numeric([1, 2.2, \"Ajay\", True, 3+7j, \"pwskills\", 5, 6, [100, 101, \"Ajay\"]])"
      ]
    },
    {
      "cell_type": "code",
      "execution_count": null,
      "id": "40954ef4-8a20-41b4-ae05-cbb7a335b11d",
      "metadata": {
        "id": "40954ef4-8a20-41b4-ae05-cbb7a335b11d"
      },
      "outputs": [],
      "source": [
        "def only_numeric(a):\n",
        "    n = []\n",
        "    for i in a:\n",
        "        if type(i) == list:\n",
        "            for j in i:\n",
        "                if type(j) == int or type(j) == float:\n",
        "                    n.append(j)\n",
        "        else:\n",
        "            if type(i) == int or type(i) == float:\n",
        "                n.append(i)\n",
        "    return n"
      ]
    },
    {
      "cell_type": "code",
      "execution_count": null,
      "id": "32af1fc2-5898-4700-a3c5-bd8cf0d34fa6",
      "metadata": {
        "id": "32af1fc2-5898-4700-a3c5-bd8cf0d34fa6",
        "outputId": "a29bc555-7501-44f2-dc52-081e9370f3ae"
      },
      "outputs": [
        {
          "data": {
            "text/plain": [
              "[1, 2.2, 5, 6, 100, 101]"
            ]
          },
          "execution_count": 107,
          "metadata": {},
          "output_type": "execute_result"
        }
      ],
      "source": [
        "only_numeric([1, 2.2, \"Ajay\", True, 3+7j, \"pwskills\", 5, 6, [100, 101, \"Ajay\"]])"
      ]
    },
    {
      "cell_type": "code",
      "execution_count": null,
      "id": "76f02609-3004-4dae-ae1e-c077500cdddc",
      "metadata": {
        "id": "76f02609-3004-4dae-ae1e-c077500cdddc"
      },
      "outputs": [],
      "source": [
        "def sum1(a, b):\n",
        "    return a+b"
      ]
    },
    {
      "cell_type": "code",
      "execution_count": null,
      "id": "713b96fe-888e-45dc-9e6d-9a3c43e75dc2",
      "metadata": {
        "id": "713b96fe-888e-45dc-9e6d-9a3c43e75dc2",
        "outputId": "8df63eaa-708b-4bc4-a6d8-08f105aa6981"
      },
      "outputs": [
        {
          "data": {
            "text/plain": [
              "5"
            ]
          },
          "execution_count": 109,
          "metadata": {},
          "output_type": "execute_result"
        }
      ],
      "source": [
        "sum1(2, 3)"
      ]
    },
    {
      "cell_type": "code",
      "execution_count": null,
      "id": "3310a649-461e-432a-b132-e1f8c8d8f2fc",
      "metadata": {
        "id": "3310a649-461e-432a-b132-e1f8c8d8f2fc",
        "outputId": "1946b10c-f2c9-49fe-da6d-cfcbf3d71f79"
      },
      "outputs": [
        {
          "ename": "TypeError",
          "evalue": "sum1() takes 2 positional arguments but 3 were given",
          "output_type": "error",
          "traceback": [
            "\u001b[0;31m---------------------------------------------------------------------------\u001b[0m",
            "\u001b[0;31mTypeError\u001b[0m                                 Traceback (most recent call last)",
            "Cell \u001b[0;32mIn[110], line 1\u001b[0m\n\u001b[0;32m----> 1\u001b[0m \u001b[43msum1\u001b[49m\u001b[43m(\u001b[49m\u001b[38;5;241;43m2\u001b[39;49m\u001b[43m,\u001b[49m\u001b[43m \u001b[49m\u001b[38;5;241;43m3\u001b[39;49m\u001b[43m,\u001b[49m\u001b[43m \u001b[49m\u001b[38;5;241;43m4\u001b[39;49m\u001b[43m)\u001b[49m\n",
            "\u001b[0;31mTypeError\u001b[0m: sum1() takes 2 positional arguments but 3 were given"
          ]
        }
      ],
      "source": [
        "sum1(2, 3, 4)"
      ]
    },
    {
      "cell_type": "code",
      "execution_count": null,
      "id": "da959b6c-65cc-44b8-9064-541151757d86",
      "metadata": {
        "id": "da959b6c-65cc-44b8-9064-541151757d86"
      },
      "outputs": [],
      "source": [
        "#variable length arguement>>when you dont know the no of arguments"
      ]
    },
    {
      "cell_type": "code",
      "execution_count": null,
      "id": "daf33a9c-2cd2-48a5-a35a-ef25b3d4e0e7",
      "metadata": {
        "id": "daf33a9c-2cd2-48a5-a35a-ef25b3d4e0e7"
      },
      "outputs": [],
      "source": [
        "def sum1(*args):\n",
        "    return args"
      ]
    },
    {
      "cell_type": "code",
      "execution_count": null,
      "id": "391a2957-bdaf-40b1-96cd-92f5b18a4b7d",
      "metadata": {
        "id": "391a2957-bdaf-40b1-96cd-92f5b18a4b7d",
        "outputId": "b95c4b45-3050-437f-e9ea-ef7309a08277"
      },
      "outputs": [
        {
          "data": {
            "text/plain": [
              "(1, 2)"
            ]
          },
          "execution_count": 113,
          "metadata": {},
          "output_type": "execute_result"
        }
      ],
      "source": [
        "sum1(1, 2)"
      ]
    },
    {
      "cell_type": "code",
      "execution_count": null,
      "id": "dac2c2c7-647f-400a-adf2-f02ce6bd9455",
      "metadata": {
        "id": "dac2c2c7-647f-400a-adf2-f02ce6bd9455",
        "outputId": "40f9789e-1896-4b98-b1a7-647960a16313"
      },
      "outputs": [
        {
          "data": {
            "text/plain": [
              "(1, 2, 3)"
            ]
          },
          "execution_count": 114,
          "metadata": {},
          "output_type": "execute_result"
        }
      ],
      "source": [
        "sum1(1, 2, 3)"
      ]
    },
    {
      "cell_type": "code",
      "execution_count": null,
      "id": "4af83025-ec82-44c4-b24e-cd700a2cf67e",
      "metadata": {
        "id": "4af83025-ec82-44c4-b24e-cd700a2cf67e",
        "outputId": "27881143-d5ed-47e8-faa8-53fc78d8ec57"
      },
      "outputs": [
        {
          "data": {
            "text/plain": [
              "(1, 2, 3, 4, 5, 6, 7)"
            ]
          },
          "execution_count": 115,
          "metadata": {},
          "output_type": "execute_result"
        }
      ],
      "source": [
        "sum1(1, 2, 3, 4, 5, 6, 7)"
      ]
    },
    {
      "cell_type": "code",
      "execution_count": null,
      "id": "cccc3477-f49b-4f54-b58f-62858369bf16",
      "metadata": {
        "id": "cccc3477-f49b-4f54-b58f-62858369bf16",
        "outputId": "05298089-228e-498d-809c-be7476afeb55"
      },
      "outputs": [
        {
          "name": "stdout",
          "output_type": "stream",
          "text": [
            "1\n",
            "2\n",
            "3\n",
            "4\n",
            "5\n",
            "6\n",
            "7\n"
          ]
        }
      ],
      "source": [
        "for i in (1, 2, 3, 4, 5, 6, 7):\n",
        "    print(i)"
      ]
    },
    {
      "cell_type": "code",
      "execution_count": null,
      "id": "0653a5ca-27c4-4785-b13e-5f8d3f1d5192",
      "metadata": {
        "id": "0653a5ca-27c4-4785-b13e-5f8d3f1d5192"
      },
      "outputs": [],
      "source": [
        "#A function which can take any no of values and return the sum\n",
        "\n",
        "def sum1(*args):\n",
        "    s = 0\n",
        "    for i in args:\n",
        "        s = s+i\n",
        "    return s"
      ]
    },
    {
      "cell_type": "code",
      "execution_count": null,
      "id": "aa0e9fb7-2beb-4bc7-a304-d8d834251285",
      "metadata": {
        "id": "aa0e9fb7-2beb-4bc7-a304-d8d834251285",
        "outputId": "af55a326-5400-41ed-cd54-aee6f820f2fa"
      },
      "outputs": [
        {
          "data": {
            "text/plain": [
              "103"
            ]
          },
          "execution_count": 121,
          "metadata": {},
          "output_type": "execute_result"
        }
      ],
      "source": [
        "sum1(1, 2, 100)"
      ]
    },
    {
      "cell_type": "code",
      "execution_count": null,
      "id": "0093a35c-7dee-4084-9e1e-64e941c6a5ae",
      "metadata": {
        "id": "0093a35c-7dee-4084-9e1e-64e941c6a5ae"
      },
      "outputs": [],
      "source": [
        "#variable arguement with default arguement\n",
        "def test(*args, a):\n",
        "    return args, a"
      ]
    },
    {
      "cell_type": "code",
      "execution_count": null,
      "id": "f695c02c-2089-4563-8c80-966ce55dd93f",
      "metadata": {
        "id": "f695c02c-2089-4563-8c80-966ce55dd93f",
        "outputId": "ab1a31b9-2188-4a3a-d355-9826e6791043"
      },
      "outputs": [
        {
          "data": {
            "text/plain": [
              "((1, 2, 3, 4), 100)"
            ]
          },
          "execution_count": 125,
          "metadata": {},
          "output_type": "execute_result"
        }
      ],
      "source": [
        "test(1, 2, 3, 4, a = 100)"
      ]
    },
    {
      "cell_type": "code",
      "execution_count": null,
      "id": "4216e2c9-cf05-4989-9237-058a74084d28",
      "metadata": {
        "id": "4216e2c9-cf05-4989-9237-058a74084d28"
      },
      "outputs": [],
      "source": [
        "#variable arguement >> takes any no of argement\n",
        "#positional argement>> fixed argement"
      ]
    },
    {
      "cell_type": "code",
      "execution_count": null,
      "id": "5e7e88bb-155a-45c8-aed7-5fe4c9992d8f",
      "metadata": {
        "id": "5e7e88bb-155a-45c8-aed7-5fe4c9992d8f"
      },
      "outputs": [],
      "source": [
        "#write a function can take any no of values and returns the list"
      ]
    },
    {
      "cell_type": "code",
      "execution_count": null,
      "id": "aeb7f247-0da3-4df5-a751-134d3ff7039b",
      "metadata": {
        "id": "aeb7f247-0da3-4df5-a751-134d3ff7039b"
      },
      "outputs": [],
      "source": [
        "def return_list(*args):\n",
        "    l = []\n",
        "    for i in args:\n",
        "        if type(i) == list:\n",
        "            l.append(i)\n",
        "    return l"
      ]
    },
    {
      "cell_type": "code",
      "execution_count": null,
      "id": "08b086cc-f6df-4669-ae5e-8cb0e7aa77be",
      "metadata": {
        "id": "08b086cc-f6df-4669-ae5e-8cb0e7aa77be",
        "outputId": "1320b0e7-9e99-4773-b994-0a218d83075f"
      },
      "outputs": [
        {
          "data": {
            "text/plain": [
              "[[4, 5, [6, 7]], [1, 2, 3, 4]]"
            ]
          },
          "execution_count": 130,
          "metadata": {},
          "output_type": "execute_result"
        }
      ],
      "source": [
        "return_list(1, 2, 2.3, 5+7j, {2,3},[4, 5, [6, 7]], [1, 2, 3, 4], (2,3), True, \"Ajay\")"
      ]
    },
    {
      "cell_type": "code",
      "execution_count": null,
      "id": "e9e3a5eb-ecbf-4c21-95e9-0f5791373ea4",
      "metadata": {
        "id": "e9e3a5eb-ecbf-4c21-95e9-0f5791373ea4",
        "outputId": "582da3d8-8b5f-4632-e170-f5975fe6c108"
      },
      "outputs": [
        {
          "data": {
            "text/plain": [
              "'Ajay is working on CV.'"
            ]
          },
          "execution_count": 131,
          "metadata": {},
          "output_type": "execute_result"
        }
      ],
      "source": [
        "def team(name, project):\n",
        "    return f\"{name} is working on {project}.\"\n",
        "\n",
        "team(\"Ajay\", \"CV\")"
      ]
    },
    {
      "cell_type": "code",
      "execution_count": null,
      "id": "5070c9a4-f11f-4241-929c-d93dde9733df",
      "metadata": {
        "id": "5070c9a4-f11f-4241-929c-d93dde9733df"
      },
      "outputs": [],
      "source": [
        "#function should accept any no of arguments in form of key value pair\n",
        "#kwargs>key word argument\n",
        "def kwargs_function(**kwargs):\n",
        "    return kwargs"
      ]
    },
    {
      "cell_type": "code",
      "execution_count": null,
      "id": "28bd7727-f1ad-4c41-8cb6-2b3536ed4d6d",
      "metadata": {
        "id": "28bd7727-f1ad-4c41-8cb6-2b3536ed4d6d",
        "outputId": "98703724-4f53-4c5f-dd13-adf95c044b43"
      },
      "outputs": [
        {
          "data": {
            "text/plain": [
              "{'a': 2, 'b': 3, 'c': [1, 2, 3], 'd': {1, 2}, 'e': (1, 2), 'f': [6, 7]}"
            ]
          },
          "execution_count": 134,
          "metadata": {},
          "output_type": "execute_result"
        }
      ],
      "source": [
        "kwargs_function(a = 2, b=3, c= [1, 2,3], d = {1, 2}, e = (1, 2), f = [6, 7])"
      ]
    },
    {
      "cell_type": "code",
      "execution_count": null,
      "id": "6b654c92-4263-4a64-97ef-a7dd69f23cea",
      "metadata": {
        "id": "6b654c92-4263-4a64-97ef-a7dd69f23cea"
      },
      "outputs": [],
      "source": [
        "#function which takes any no of key value argument and return only list key value argement"
      ]
    },
    {
      "cell_type": "code",
      "execution_count": null,
      "id": "acc99d9b-9040-4a06-9ee7-5e0906e9a4f9",
      "metadata": {
        "id": "acc99d9b-9040-4a06-9ee7-5e0906e9a4f9"
      },
      "outputs": [],
      "source": [
        "def test(**kwargs):\n",
        "    for i in kwargs.keys():\n",
        "        if type(kwargs[i]) == list:\n",
        "            return i, kwargs[i]"
      ]
    },
    {
      "cell_type": "code",
      "execution_count": null,
      "id": "cfef8aa5-0a11-4520-853e-e54918ca2ddc",
      "metadata": {
        "id": "cfef8aa5-0a11-4520-853e-e54918ca2ddc",
        "outputId": "29a062bc-474d-4c1e-f409-f93ebd6dd022"
      },
      "outputs": [
        {
          "data": {
            "text/plain": [
              "('c', [1, 2, 3])"
            ]
          },
          "execution_count": 136,
          "metadata": {},
          "output_type": "execute_result"
        }
      ],
      "source": [
        "test(a = 2, b=3, c= [1, 2,3], d = {1, 2}, e = (1, 2))"
      ]
    },
    {
      "cell_type": "code",
      "execution_count": null,
      "id": "37f53b01-8617-4ae1-821d-ed6e6dd604cd",
      "metadata": {
        "id": "37f53b01-8617-4ae1-821d-ed6e6dd604cd"
      },
      "outputs": [],
      "source": [
        "#variable length argument and keyword arguement together\n",
        "\n",
        "def test1(*args, **args1):\n",
        "    return args,args1"
      ]
    },
    {
      "cell_type": "code",
      "execution_count": null,
      "id": "53589b9b-0a5f-4eed-ac8b-b51e513aaa5c",
      "metadata": {
        "id": "53589b9b-0a5f-4eed-ac8b-b51e513aaa5c",
        "outputId": "a4653ed8-bcd7-4ba9-8103-4665f6c16db7"
      },
      "outputs": [
        {
          "data": {
            "text/plain": [
              "((1, 2, 3, 4), {'a': 100, 'b': 50})"
            ]
          },
          "execution_count": 140,
          "metadata": {},
          "output_type": "execute_result"
        }
      ],
      "source": [
        "test1(1, 2, 3, 4, a=100, b=50)"
      ]
    },
    {
      "cell_type": "code",
      "execution_count": null,
      "id": "3fda3c4d-de60-4acb-b14e-b0ae784a54ea",
      "metadata": {
        "id": "3fda3c4d-de60-4acb-b14e-b0ae784a54ea",
        "outputId": "5c99c176-79f4-433c-deb5-497df09bb73a"
      },
      "outputs": [
        {
          "data": {
            "text/plain": [
              "((), {})"
            ]
          },
          "execution_count": 142,
          "metadata": {},
          "output_type": "execute_result"
        }
      ],
      "source": [
        "test1()"
      ]
    },
    {
      "cell_type": "code",
      "execution_count": null,
      "id": "03265af8-9880-4253-a784-b845e73322a6",
      "metadata": {
        "id": "03265af8-9880-4253-a784-b845e73322a6",
        "outputId": "ff4ba59e-852b-4234-81e0-b82c7ef3e8c3"
      },
      "outputs": [
        {
          "data": {
            "text/plain": [
              "((1, 2, 3, 4), {'a': 100, 'b': 50})"
            ]
          },
          "execution_count": 143,
          "metadata": {},
          "output_type": "execute_result"
        }
      ],
      "source": [
        "def test1(*ajay, **bijay):\n",
        "    return ajay, bijay\n",
        "\n",
        "test1(1, 2, 3, 4, a=100, b=50)"
      ]
    },
    {
      "cell_type": "code",
      "execution_count": null,
      "id": "16e6e7fd-8722-4999-b4e4-ca13b99a678b",
      "metadata": {
        "id": "16e6e7fd-8722-4999-b4e4-ca13b99a678b"
      },
      "outputs": [],
      "source": [
        "#python namesapce\n",
        "\n",
        "def greet():\n",
        "    message = \"hello, welcome!\" #message variable is a local variable(scope is only inside function)\n",
        "    print(message)"
      ]
    },
    {
      "cell_type": "code",
      "execution_count": null,
      "id": "a5498cca-406c-4720-ab42-8799c245e52a",
      "metadata": {
        "id": "a5498cca-406c-4720-ab42-8799c245e52a",
        "outputId": "df845427-eba0-47fd-95a8-fb7e1f624ef0"
      },
      "outputs": [
        {
          "name": "stdout",
          "output_type": "stream",
          "text": [
            "hello, welcome!\n"
          ]
        }
      ],
      "source": [
        "greet()"
      ]
    },
    {
      "cell_type": "code",
      "execution_count": null,
      "id": "1f180f7a-b282-4b64-bc0d-2ddde7550253",
      "metadata": {
        "id": "1f180f7a-b282-4b64-bc0d-2ddde7550253",
        "outputId": "13b5fec9-fc66-42f8-c5fa-b926cb571486"
      },
      "outputs": [
        {
          "ename": "NameError",
          "evalue": "name 'message' is not defined",
          "output_type": "error",
          "traceback": [
            "\u001b[0;31m---------------------------------------------------------------------------\u001b[0m",
            "\u001b[0;31mNameError\u001b[0m                                 Traceback (most recent call last)",
            "Cell \u001b[0;32mIn[146], line 1\u001b[0m\n\u001b[0;32m----> 1\u001b[0m \u001b[38;5;28mprint\u001b[39m(\u001b[43mmessage\u001b[49m)\n",
            "\u001b[0;31mNameError\u001b[0m: name 'message' is not defined"
          ]
        }
      ],
      "source": [
        "print(message)"
      ]
    },
    {
      "cell_type": "code",
      "execution_count": null,
      "id": "d25b3daa-a5b5-4444-b9ac-bb48256794b3",
      "metadata": {
        "id": "d25b3daa-a5b5-4444-b9ac-bb48256794b3"
      },
      "outputs": [],
      "source": [
        "subpart = \" to the course\" #global variable>> can be accessed outside the function as well\n",
        "def greet():\n",
        "    message = \"hello, welcome\" + subpart\n",
        "    print(message)"
      ]
    },
    {
      "cell_type": "code",
      "execution_count": null,
      "id": "69246836-fd13-4a58-beb2-a5098b699d39",
      "metadata": {
        "id": "69246836-fd13-4a58-beb2-a5098b699d39",
        "outputId": "3c5fa303-fa61-42ac-9d61-58fedb37bc26"
      },
      "outputs": [
        {
          "name": "stdout",
          "output_type": "stream",
          "text": [
            "hello, welcome to the course\n"
          ]
        }
      ],
      "source": [
        "greet()"
      ]
    },
    {
      "cell_type": "code",
      "execution_count": null,
      "id": "0c65657b-54b6-446a-b029-82d72c44449f",
      "metadata": {
        "id": "0c65657b-54b6-446a-b029-82d72c44449f",
        "outputId": "1bfa4bf3-67e3-4d56-d78b-a87ef41c90bd"
      },
      "outputs": [
        {
          "ename": "NameError",
          "evalue": "name 'message' is not defined",
          "output_type": "error",
          "traceback": [
            "\u001b[0;31m---------------------------------------------------------------------------\u001b[0m",
            "\u001b[0;31mNameError\u001b[0m                                 Traceback (most recent call last)",
            "Cell \u001b[0;32mIn[151], line 1\u001b[0m\n\u001b[0;32m----> 1\u001b[0m \u001b[38;5;28mprint\u001b[39m(\u001b[43mmessage\u001b[49m)\n",
            "\u001b[0;31mNameError\u001b[0m: name 'message' is not defined"
          ]
        }
      ],
      "source": [
        "print(message)"
      ]
    },
    {
      "cell_type": "code",
      "execution_count": null,
      "id": "3025650f-c6e6-4c2b-9e22-a74cb3e89d83",
      "metadata": {
        "id": "3025650f-c6e6-4c2b-9e22-a74cb3e89d83"
      },
      "outputs": [],
      "source": [
        "#namespace>> scope of variables\n",
        "#local variable>> a function defined inside a function should be accessed in the function only\n",
        "#global variable>> accessed any where"
      ]
    },
    {
      "cell_type": "code",
      "execution_count": null,
      "id": "a892d219-b959-4a53-983a-21b0336f7422",
      "metadata": {
        "id": "a892d219-b959-4a53-983a-21b0336f7422"
      },
      "outputs": [],
      "source": [
        "#function inside function\n",
        "\n",
        "\n",
        "def marks_in_subject(**kwargs):\n",
        "    marks_list = []\n",
        "    for sub, marks in kwargs.items():\n",
        "        marks_list.append(marks)\n",
        "\n",
        "    return marks_list\n",
        ""
      ]
    },
    {
      "cell_type": "code",
      "execution_count": null,
      "id": "2a923c9d-845e-4589-8ef1-4c8d7c8b3252",
      "metadata": {
        "id": "2a923c9d-845e-4589-8ef1-4c8d7c8b3252",
        "outputId": "9faf5fd7-aaff-49b9-87a7-a220bae7d866"
      },
      "outputs": [
        {
          "data": {
            "text/plain": [
              "[90, 20]"
            ]
          },
          "execution_count": 154,
          "metadata": {},
          "output_type": "execute_result"
        }
      ],
      "source": [
        "marks_in_subject(a = 90, b=20)"
      ]
    },
    {
      "cell_type": "code",
      "execution_count": null,
      "id": "3e472c2c-9001-4802-ae2e-c3b657cf0b9f",
      "metadata": {
        "id": "3e472c2c-9001-4802-ae2e-c3b657cf0b9f"
      },
      "outputs": [],
      "source": [
        "def marks_in_subject(**kwargs):\n",
        "    def total_marks(marks_list):\n",
        "        return sum(marks_list)\n",
        "    marks_list = []\n",
        "    for sub, marks in kwargs.items():\n",
        "        marks_list.append(marks)\n",
        "\n",
        "    return total_marks(marks_list)"
      ]
    },
    {
      "cell_type": "code",
      "execution_count": null,
      "id": "d41b2d83-bb1c-45da-a102-57d945cf898f",
      "metadata": {
        "id": "d41b2d83-bb1c-45da-a102-57d945cf898f",
        "outputId": "d04246ed-3f03-4b6c-a8c5-2b03f1d221e1"
      },
      "outputs": [
        {
          "data": {
            "text/plain": [
              "160"
            ]
          },
          "execution_count": 159,
          "metadata": {},
          "output_type": "execute_result"
        }
      ],
      "source": [
        "marks_in_subject(a = 90, b=40, c=30)"
      ]
    },
    {
      "cell_type": "code",
      "execution_count": null,
      "id": "e8fb9c64-025a-4848-b7ec-54e4a4b2d324",
      "metadata": {
        "id": "e8fb9c64-025a-4848-b7ec-54e4a4b2d324"
      },
      "outputs": [],
      "source": [
        "#calling function from outside\n",
        "def total_marks(marks_list):\n",
        "    return sum(marks_list)\n",
        "\n",
        "def marks_in_subject(**kwargs):\n",
        "    marks_list = []\n",
        "    for sub, marks in kwargs.items():\n",
        "        marks_list.append(marks)\n",
        "\n",
        "    return total_marks(marks_list)"
      ]
    },
    {
      "cell_type": "code",
      "execution_count": null,
      "id": "72e470f9-5000-4453-8934-7428ba79e402",
      "metadata": {
        "id": "72e470f9-5000-4453-8934-7428ba79e402",
        "outputId": "4c6652bc-1929-4754-b81d-049cf6516518"
      },
      "outputs": [
        {
          "data": {
            "text/plain": [
              "260"
            ]
          },
          "execution_count": 161,
          "metadata": {},
          "output_type": "execute_result"
        }
      ],
      "source": [
        "marks_in_subject(a = 90, b=40, c=30, d=100)"
      ]
    },
    {
      "cell_type": "code",
      "execution_count": null,
      "id": "d5059431-e637-431a-92ef-3f106a58bd7c",
      "metadata": {
        "id": "d5059431-e637-431a-92ef-3f106a58bd7c"
      },
      "outputs": [],
      "source": [
        "def find_power(num, power):\n",
        "    return num*power"
      ]
    },
    {
      "cell_type": "code",
      "execution_count": null,
      "id": "f2239ba4-ca0a-4308-9316-965cae286431",
      "metadata": {
        "id": "f2239ba4-ca0a-4308-9316-965cae286431",
        "outputId": "68fa33f8-03df-45e4-e6de-7d98f11a47d0"
      },
      "outputs": [
        {
          "data": {
            "text/plain": [
              "150"
            ]
          },
          "execution_count": 165,
          "metadata": {},
          "output_type": "execute_result"
        }
      ],
      "source": [
        "find_power(3, 50)"
      ]
    },
    {
      "cell_type": "code",
      "execution_count": null,
      "id": "b27cdf62-1059-4432-8982-c6410522ac60",
      "metadata": {
        "id": "b27cdf62-1059-4432-8982-c6410522ac60"
      },
      "outputs": [],
      "source": [
        "ef find_power(num, power):\n",
        "    \"\"\"This function returns the power of no\n",
        "    Args:\n",
        "        num(int): provide any integer as input\n",
        "        power(int): provide power as integer\n",
        "    Returns:\n",
        "        integer: power of no\n",
        "    \"\"\"\n",
        "    return num*power"
      ]
    },
    {
      "cell_type": "code",
      "execution_count": null,
      "id": "4ff408c7-f82e-465a-8594-b9c0c20bc75b",
      "metadata": {
        "id": "4ff408c7-f82e-465a-8594-b9c0c20bc75b"
      },
      "outputs": [],
      "source": []
    }
  ],
  "metadata": {
    "kernelspec": {
      "display_name": "Python 3 (ipykernel)",
      "language": "python",
      "name": "python3"
    },
    "language_info": {
      "codemirror_mode": {
        "name": "ipython",
        "version": 3
      },
      "file_extension": ".py",
      "mimetype": "text/x-python",
      "name": "python",
      "nbconvert_exporter": "python",
      "pygments_lexer": "ipython3",
      "version": "3.10.8"
    },
    "colab": {
      "provenance": [],
      "include_colab_link": true
    }
  },
  "nbformat": 4,
  "nbformat_minor": 5
}